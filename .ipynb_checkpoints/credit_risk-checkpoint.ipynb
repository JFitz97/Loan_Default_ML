{
 "cells": [
  {
   "cell_type": "code",
   "execution_count": 2,
   "id": "c64e77ea",
   "metadata": {
    "id": "c64e77ea"
   },
   "outputs": [],
   "source": [
    "# import dependencies\n",
    "import pandas as pd\n",
    "from sklearn import tree\n",
    "from sklearn.preprocessing import StandardScaler\n",
    "from sklearn.model_selection import train_test_split\n",
    "from sklearn.metrics import confusion_matrix, accuracy_score, classification_report\n",
    "from sklearn.ensemble import RandomForestClassifier\n",
    "import numpy as np"
   ]
  },
  {
   "cell_type": "code",
   "execution_count": 2,
   "id": "2gCVsJoo7mRY",
   "metadata": {
    "colab": {
     "base_uri": "https://localhost:8080/"
    },
    "id": "2gCVsJoo7mRY",
    "outputId": "a0de91ac-4c0b-413c-d57a-4f2236e76a4e"
   },
   "outputs": [
    {
     "name": "stdout",
     "output_type": "stream",
     "text": [
      "Mounted at /content/drive\n"
     ]
    }
   ],
   "source": [
    "# from google.colab import drive\n",
    "\n",
    "# drive.mount('/content/drive')"
   ]
  },
  {
   "cell_type": "code",
   "execution_count": 3,
   "id": "mwnqDmvQ7mW6",
   "metadata": {
    "colab": {
     "base_uri": "https://localhost:8080/",
     "height": 488
    },
    "id": "mwnqDmvQ7mW6",
    "outputId": "0b031deb-abcc-4f91-cf38-12e4fa125d28"
   },
   "outputs": [
    {
     "data": {
      "text/html": [
       "<div>\n",
       "<style scoped>\n",
       "    .dataframe tbody tr th:only-of-type {\n",
       "        vertical-align: middle;\n",
       "    }\n",
       "\n",
       "    .dataframe tbody tr th {\n",
       "        vertical-align: top;\n",
       "    }\n",
       "\n",
       "    .dataframe thead th {\n",
       "        text-align: right;\n",
       "    }\n",
       "</style>\n",
       "<table border=\"1\" class=\"dataframe\">\n",
       "  <thead>\n",
       "    <tr style=\"text-align: right;\">\n",
       "      <th></th>\n",
       "      <th>person_age</th>\n",
       "      <th>person_income</th>\n",
       "      <th>person_home_ownership</th>\n",
       "      <th>person_emp_length</th>\n",
       "      <th>loan_intent</th>\n",
       "      <th>loan_amnt</th>\n",
       "      <th>loan_int_rate</th>\n",
       "      <th>loan_status</th>\n",
       "      <th>loan_percent_income</th>\n",
       "      <th>cb_person_default_on_file</th>\n",
       "      <th>cb_person_cred_hist_length</th>\n",
       "    </tr>\n",
       "  </thead>\n",
       "  <tbody>\n",
       "    <tr>\n",
       "      <th>0</th>\n",
       "      <td>22</td>\n",
       "      <td>59000</td>\n",
       "      <td>RENT</td>\n",
       "      <td>123.0</td>\n",
       "      <td>PERSONAL</td>\n",
       "      <td>35000</td>\n",
       "      <td>16.02</td>\n",
       "      <td>1</td>\n",
       "      <td>0.59</td>\n",
       "      <td>Y</td>\n",
       "      <td>3</td>\n",
       "    </tr>\n",
       "    <tr>\n",
       "      <th>1</th>\n",
       "      <td>21</td>\n",
       "      <td>9600</td>\n",
       "      <td>OWN</td>\n",
       "      <td>5.0</td>\n",
       "      <td>EDUCATION</td>\n",
       "      <td>1000</td>\n",
       "      <td>11.14</td>\n",
       "      <td>0</td>\n",
       "      <td>0.10</td>\n",
       "      <td>N</td>\n",
       "      <td>2</td>\n",
       "    </tr>\n",
       "    <tr>\n",
       "      <th>2</th>\n",
       "      <td>25</td>\n",
       "      <td>9600</td>\n",
       "      <td>MORTGAGE</td>\n",
       "      <td>1.0</td>\n",
       "      <td>MEDICAL</td>\n",
       "      <td>5500</td>\n",
       "      <td>12.87</td>\n",
       "      <td>1</td>\n",
       "      <td>0.57</td>\n",
       "      <td>N</td>\n",
       "      <td>3</td>\n",
       "    </tr>\n",
       "    <tr>\n",
       "      <th>3</th>\n",
       "      <td>23</td>\n",
       "      <td>65500</td>\n",
       "      <td>RENT</td>\n",
       "      <td>4.0</td>\n",
       "      <td>MEDICAL</td>\n",
       "      <td>35000</td>\n",
       "      <td>15.23</td>\n",
       "      <td>1</td>\n",
       "      <td>0.53</td>\n",
       "      <td>N</td>\n",
       "      <td>2</td>\n",
       "    </tr>\n",
       "    <tr>\n",
       "      <th>4</th>\n",
       "      <td>24</td>\n",
       "      <td>54400</td>\n",
       "      <td>RENT</td>\n",
       "      <td>8.0</td>\n",
       "      <td>MEDICAL</td>\n",
       "      <td>35000</td>\n",
       "      <td>14.27</td>\n",
       "      <td>1</td>\n",
       "      <td>0.55</td>\n",
       "      <td>Y</td>\n",
       "      <td>4</td>\n",
       "    </tr>\n",
       "    <tr>\n",
       "      <th>...</th>\n",
       "      <td>...</td>\n",
       "      <td>...</td>\n",
       "      <td>...</td>\n",
       "      <td>...</td>\n",
       "      <td>...</td>\n",
       "      <td>...</td>\n",
       "      <td>...</td>\n",
       "      <td>...</td>\n",
       "      <td>...</td>\n",
       "      <td>...</td>\n",
       "      <td>...</td>\n",
       "    </tr>\n",
       "    <tr>\n",
       "      <th>32576</th>\n",
       "      <td>57</td>\n",
       "      <td>53000</td>\n",
       "      <td>MORTGAGE</td>\n",
       "      <td>1.0</td>\n",
       "      <td>PERSONAL</td>\n",
       "      <td>5800</td>\n",
       "      <td>13.16</td>\n",
       "      <td>0</td>\n",
       "      <td>0.11</td>\n",
       "      <td>N</td>\n",
       "      <td>30</td>\n",
       "    </tr>\n",
       "    <tr>\n",
       "      <th>32577</th>\n",
       "      <td>54</td>\n",
       "      <td>120000</td>\n",
       "      <td>MORTGAGE</td>\n",
       "      <td>4.0</td>\n",
       "      <td>PERSONAL</td>\n",
       "      <td>17625</td>\n",
       "      <td>7.49</td>\n",
       "      <td>0</td>\n",
       "      <td>0.15</td>\n",
       "      <td>N</td>\n",
       "      <td>19</td>\n",
       "    </tr>\n",
       "    <tr>\n",
       "      <th>32578</th>\n",
       "      <td>65</td>\n",
       "      <td>76000</td>\n",
       "      <td>RENT</td>\n",
       "      <td>3.0</td>\n",
       "      <td>HOMEIMPROVEMENT</td>\n",
       "      <td>35000</td>\n",
       "      <td>10.99</td>\n",
       "      <td>1</td>\n",
       "      <td>0.46</td>\n",
       "      <td>N</td>\n",
       "      <td>28</td>\n",
       "    </tr>\n",
       "    <tr>\n",
       "      <th>32579</th>\n",
       "      <td>56</td>\n",
       "      <td>150000</td>\n",
       "      <td>MORTGAGE</td>\n",
       "      <td>5.0</td>\n",
       "      <td>PERSONAL</td>\n",
       "      <td>15000</td>\n",
       "      <td>11.48</td>\n",
       "      <td>0</td>\n",
       "      <td>0.10</td>\n",
       "      <td>N</td>\n",
       "      <td>26</td>\n",
       "    </tr>\n",
       "    <tr>\n",
       "      <th>32580</th>\n",
       "      <td>66</td>\n",
       "      <td>42000</td>\n",
       "      <td>RENT</td>\n",
       "      <td>2.0</td>\n",
       "      <td>MEDICAL</td>\n",
       "      <td>6475</td>\n",
       "      <td>9.99</td>\n",
       "      <td>0</td>\n",
       "      <td>0.15</td>\n",
       "      <td>N</td>\n",
       "      <td>30</td>\n",
       "    </tr>\n",
       "  </tbody>\n",
       "</table>\n",
       "<p>32581 rows × 11 columns</p>\n",
       "</div>"
      ],
      "text/plain": [
       "       person_age  person_income person_home_ownership  person_emp_length   \n",
       "0              22          59000                  RENT              123.0  \\\n",
       "1              21           9600                   OWN                5.0   \n",
       "2              25           9600              MORTGAGE                1.0   \n",
       "3              23          65500                  RENT                4.0   \n",
       "4              24          54400                  RENT                8.0   \n",
       "...           ...            ...                   ...                ...   \n",
       "32576          57          53000              MORTGAGE                1.0   \n",
       "32577          54         120000              MORTGAGE                4.0   \n",
       "32578          65          76000                  RENT                3.0   \n",
       "32579          56         150000              MORTGAGE                5.0   \n",
       "32580          66          42000                  RENT                2.0   \n",
       "\n",
       "           loan_intent  loan_amnt  loan_int_rate  loan_status   \n",
       "0             PERSONAL      35000          16.02            1  \\\n",
       "1            EDUCATION       1000          11.14            0   \n",
       "2              MEDICAL       5500          12.87            1   \n",
       "3              MEDICAL      35000          15.23            1   \n",
       "4              MEDICAL      35000          14.27            1   \n",
       "...                ...        ...            ...          ...   \n",
       "32576         PERSONAL       5800          13.16            0   \n",
       "32577         PERSONAL      17625           7.49            0   \n",
       "32578  HOMEIMPROVEMENT      35000          10.99            1   \n",
       "32579         PERSONAL      15000          11.48            0   \n",
       "32580          MEDICAL       6475           9.99            0   \n",
       "\n",
       "       loan_percent_income cb_person_default_on_file   \n",
       "0                     0.59                         Y  \\\n",
       "1                     0.10                         N   \n",
       "2                     0.57                         N   \n",
       "3                     0.53                         N   \n",
       "4                     0.55                         Y   \n",
       "...                    ...                       ...   \n",
       "32576                 0.11                         N   \n",
       "32577                 0.15                         N   \n",
       "32578                 0.46                         N   \n",
       "32579                 0.10                         N   \n",
       "32580                 0.15                         N   \n",
       "\n",
       "       cb_person_cred_hist_length  \n",
       "0                               3  \n",
       "1                               2  \n",
       "2                               3  \n",
       "3                               2  \n",
       "4                               4  \n",
       "...                           ...  \n",
       "32576                          30  \n",
       "32577                          19  \n",
       "32578                          28  \n",
       "32579                          26  \n",
       "32580                          30  \n",
       "\n",
       "[32581 rows x 11 columns]"
      ]
     },
     "execution_count": 3,
     "metadata": {},
     "output_type": "execute_result"
    }
   ],
   "source": [
    "# Read in CSV\n",
    "# cred_data = pd.read_csv('drive/MyDrive/Loan_Eligibility_ML/Resources/credit_risk_dataset.csv')\n",
    "cred_data = pd.read_csv('./Resources/credit_risk_dataset.csv')\n",
    "\n",
    "# Create dataframe\n",
    "cred_df = pd.DataFrame(cred_data)\n",
    "cred_df"
   ]
  },
  {
   "cell_type": "code",
   "execution_count": 4,
   "id": "b2aqYPtt7mZf",
   "metadata": {
    "colab": {
     "base_uri": "https://localhost:8080/"
    },
    "id": "b2aqYPtt7mZf",
    "outputId": "c94eaa1d-4de1-45ba-b08e-f9970cc96459"
   },
   "outputs": [
    {
     "data": {
      "text/plain": [
       "32581"
      ]
     },
     "execution_count": 4,
     "metadata": {},
     "output_type": "execute_result"
    }
   ],
   "source": [
    "# check initial length before cleaning\n",
    "len(cred_df.index)"
   ]
  },
  {
   "cell_type": "code",
   "execution_count": 5,
   "id": "4XR6AF8T7men",
   "metadata": {
    "id": "4XR6AF8T7men"
   },
   "outputs": [],
   "source": [
    "# Drop null values\n",
    "clean_cred_df = cred_df.dropna(axis=0, how='any')"
   ]
  },
  {
   "cell_type": "code",
   "execution_count": 6,
   "id": "Pesl_sb97mg8",
   "metadata": {
    "colab": {
     "base_uri": "https://localhost:8080/"
    },
    "id": "Pesl_sb97mg8",
    "outputId": "3ef022a2-10a5-4ec7-ff13-4ea6347cdbd3"
   },
   "outputs": [
    {
     "data": {
      "text/plain": [
       "28638"
      ]
     },
     "execution_count": 6,
     "metadata": {},
     "output_type": "execute_result"
    }
   ],
   "source": [
    "len(clean_cred_df.index)"
   ]
  },
  {
   "cell_type": "code",
   "execution_count": 7,
   "id": "7oWMjBi47mjS",
   "metadata": {
    "colab": {
     "base_uri": "https://localhost:8080/"
    },
    "id": "7oWMjBi47mjS",
    "outputId": "f4721eaf-ba1f-4731-9fcc-984815554d98"
   },
   "outputs": [
    {
     "name": "stderr",
     "output_type": "stream",
     "text": [
      "C:\\Users\\LAHUNT\\AppData\\Local\\Temp\\ipykernel_3560\\4041936413.py:2: SettingWithCopyWarning: \n",
      "A value is trying to be set on a copy of a slice from a DataFrame\n",
      "\n",
      "See the caveats in the documentation: https://pandas.pydata.org/pandas-docs/stable/user_guide/indexing.html#returning-a-view-versus-a-copy\n",
      "  clean_cred_df.drop(clean_cred_df[clean_cred_df['person_age']>= 100].index, inplace=True)\n"
     ]
    },
    {
     "data": {
      "text/plain": [
       "array([22, 21, 25, 23, 24, 26, 20, 32, 34, 29, 33, 28, 35, 31, 27, 30, 36,\n",
       "       50, 37, 39, 40, 43, 41, 46, 38, 47, 42, 44, 48, 45, 49, 58, 65, 51,\n",
       "       53, 66, 57, 59, 62, 54, 60, 55, 52, 61, 64, 70, 78, 69, 56, 73, 63,\n",
       "       80, 84, 76, 67], dtype=int64)"
      ]
     },
     "execution_count": 7,
     "metadata": {},
     "output_type": "execute_result"
    }
   ],
   "source": [
    "# check age and drop any odd values\n",
    "clean_cred_df.drop(clean_cred_df[clean_cred_df['person_age']>= 100].index, inplace=True)\n",
    "clean_cred_df['person_age'].unique()"
   ]
  },
  {
   "cell_type": "code",
   "execution_count": 8,
   "id": "6kfjmkiy7mli",
   "metadata": {
    "colab": {
     "base_uri": "https://localhost:8080/"
    },
    "id": "6kfjmkiy7mli",
    "outputId": "61424d6d-86e3-4ecb-e6ce-22988c15c4a6"
   },
   "outputs": [
    {
     "name": "stderr",
     "output_type": "stream",
     "text": [
      "C:\\Users\\LAHUNT\\AppData\\Local\\Temp\\ipykernel_3560\\82347455.py:2: SettingWithCopyWarning: \n",
      "A value is trying to be set on a copy of a slice from a DataFrame\n",
      "\n",
      "See the caveats in the documentation: https://pandas.pydata.org/pandas-docs/stable/user_guide/indexing.html#returning-a-view-versus-a-copy\n",
      "  clean_cred_df.cb_person_default_on_file[clean_cred_df.cb_person_default_on_file == 'Y'] = 0\n",
      "C:\\Users\\LAHUNT\\AppData\\Local\\Temp\\ipykernel_3560\\82347455.py:3: SettingWithCopyWarning: \n",
      "A value is trying to be set on a copy of a slice from a DataFrame\n",
      "\n",
      "See the caveats in the documentation: https://pandas.pydata.org/pandas-docs/stable/user_guide/indexing.html#returning-a-view-versus-a-copy\n",
      "  clean_cred_df.cb_person_default_on_file[clean_cred_df.cb_person_default_on_file == 'N'] = 1\n"
     ]
    }
   ],
   "source": [
    "# Convert cb_person_default_on_file\t to 0 = y and 1 = n\n",
    "clean_cred_df.cb_person_default_on_file[clean_cred_df.cb_person_default_on_file == 'Y'] = 0\n",
    "clean_cred_df.cb_person_default_on_file[clean_cred_df.cb_person_default_on_file == 'N'] = 1"
   ]
  },
  {
   "cell_type": "code",
   "execution_count": 9,
   "id": "WGxwLpcf7moF",
   "metadata": {
    "id": "WGxwLpcf7moF"
   },
   "outputs": [],
   "source": [
    "# Use get_dummies to convert columns to int\n",
    "clean_cred_df = pd.get_dummies(clean_cred_df,\n",
    "                            columns=['person_home_ownership', 'loan_intent'], dtype=int)"
   ]
  },
  {
   "cell_type": "code",
   "execution_count": 10,
   "id": "g6uDxUDu7mqa",
   "metadata": {
    "id": "g6uDxUDu7mqa"
   },
   "outputs": [],
   "source": [
    "clean_cred_df = clean_cred_df.drop(columns=['loan_intent_VENTURE', 'person_home_ownership_OTHER'])"
   ]
  },
  {
   "cell_type": "code",
   "execution_count": 11,
   "id": "oD1c9hEC7msp",
   "metadata": {
    "colab": {
     "base_uri": "https://localhost:8080/",
     "height": 488
    },
    "id": "oD1c9hEC7msp",
    "outputId": "e14b5cfa-d62b-417b-8367-5f03871c5a9d"
   },
   "outputs": [
    {
     "data": {
      "text/html": [
       "<div>\n",
       "<style scoped>\n",
       "    .dataframe tbody tr th:only-of-type {\n",
       "        vertical-align: middle;\n",
       "    }\n",
       "\n",
       "    .dataframe tbody tr th {\n",
       "        vertical-align: top;\n",
       "    }\n",
       "\n",
       "    .dataframe thead th {\n",
       "        text-align: right;\n",
       "    }\n",
       "</style>\n",
       "<table border=\"1\" class=\"dataframe\">\n",
       "  <thead>\n",
       "    <tr style=\"text-align: right;\">\n",
       "      <th></th>\n",
       "      <th>person_age</th>\n",
       "      <th>person_income</th>\n",
       "      <th>person_emp_length</th>\n",
       "      <th>loan_amnt</th>\n",
       "      <th>loan_int_rate</th>\n",
       "      <th>loan_status</th>\n",
       "      <th>loan_percent_income</th>\n",
       "      <th>cb_person_default_on_file</th>\n",
       "      <th>cb_person_cred_hist_length</th>\n",
       "      <th>person_home_ownership_MORTGAGE</th>\n",
       "      <th>person_home_ownership_OWN</th>\n",
       "      <th>person_home_ownership_RENT</th>\n",
       "      <th>loan_intent_DEBTCONSOLIDATION</th>\n",
       "      <th>loan_intent_EDUCATION</th>\n",
       "      <th>loan_intent_HOMEIMPROVEMENT</th>\n",
       "      <th>loan_intent_MEDICAL</th>\n",
       "      <th>loan_intent_PERSONAL</th>\n",
       "    </tr>\n",
       "  </thead>\n",
       "  <tbody>\n",
       "    <tr>\n",
       "      <th>0</th>\n",
       "      <td>22</td>\n",
       "      <td>59000</td>\n",
       "      <td>123.0</td>\n",
       "      <td>35000</td>\n",
       "      <td>16.02</td>\n",
       "      <td>1</td>\n",
       "      <td>0.59</td>\n",
       "      <td>0</td>\n",
       "      <td>3</td>\n",
       "      <td>0</td>\n",
       "      <td>0</td>\n",
       "      <td>1</td>\n",
       "      <td>0</td>\n",
       "      <td>0</td>\n",
       "      <td>0</td>\n",
       "      <td>0</td>\n",
       "      <td>1</td>\n",
       "    </tr>\n",
       "    <tr>\n",
       "      <th>1</th>\n",
       "      <td>21</td>\n",
       "      <td>9600</td>\n",
       "      <td>5.0</td>\n",
       "      <td>1000</td>\n",
       "      <td>11.14</td>\n",
       "      <td>0</td>\n",
       "      <td>0.10</td>\n",
       "      <td>1</td>\n",
       "      <td>2</td>\n",
       "      <td>0</td>\n",
       "      <td>1</td>\n",
       "      <td>0</td>\n",
       "      <td>0</td>\n",
       "      <td>1</td>\n",
       "      <td>0</td>\n",
       "      <td>0</td>\n",
       "      <td>0</td>\n",
       "    </tr>\n",
       "    <tr>\n",
       "      <th>2</th>\n",
       "      <td>25</td>\n",
       "      <td>9600</td>\n",
       "      <td>1.0</td>\n",
       "      <td>5500</td>\n",
       "      <td>12.87</td>\n",
       "      <td>1</td>\n",
       "      <td>0.57</td>\n",
       "      <td>1</td>\n",
       "      <td>3</td>\n",
       "      <td>1</td>\n",
       "      <td>0</td>\n",
       "      <td>0</td>\n",
       "      <td>0</td>\n",
       "      <td>0</td>\n",
       "      <td>0</td>\n",
       "      <td>1</td>\n",
       "      <td>0</td>\n",
       "    </tr>\n",
       "    <tr>\n",
       "      <th>3</th>\n",
       "      <td>23</td>\n",
       "      <td>65500</td>\n",
       "      <td>4.0</td>\n",
       "      <td>35000</td>\n",
       "      <td>15.23</td>\n",
       "      <td>1</td>\n",
       "      <td>0.53</td>\n",
       "      <td>1</td>\n",
       "      <td>2</td>\n",
       "      <td>0</td>\n",
       "      <td>0</td>\n",
       "      <td>1</td>\n",
       "      <td>0</td>\n",
       "      <td>0</td>\n",
       "      <td>0</td>\n",
       "      <td>1</td>\n",
       "      <td>0</td>\n",
       "    </tr>\n",
       "    <tr>\n",
       "      <th>4</th>\n",
       "      <td>24</td>\n",
       "      <td>54400</td>\n",
       "      <td>8.0</td>\n",
       "      <td>35000</td>\n",
       "      <td>14.27</td>\n",
       "      <td>1</td>\n",
       "      <td>0.55</td>\n",
       "      <td>0</td>\n",
       "      <td>4</td>\n",
       "      <td>0</td>\n",
       "      <td>0</td>\n",
       "      <td>1</td>\n",
       "      <td>0</td>\n",
       "      <td>0</td>\n",
       "      <td>0</td>\n",
       "      <td>1</td>\n",
       "      <td>0</td>\n",
       "    </tr>\n",
       "    <tr>\n",
       "      <th>...</th>\n",
       "      <td>...</td>\n",
       "      <td>...</td>\n",
       "      <td>...</td>\n",
       "      <td>...</td>\n",
       "      <td>...</td>\n",
       "      <td>...</td>\n",
       "      <td>...</td>\n",
       "      <td>...</td>\n",
       "      <td>...</td>\n",
       "      <td>...</td>\n",
       "      <td>...</td>\n",
       "      <td>...</td>\n",
       "      <td>...</td>\n",
       "      <td>...</td>\n",
       "      <td>...</td>\n",
       "      <td>...</td>\n",
       "      <td>...</td>\n",
       "    </tr>\n",
       "    <tr>\n",
       "      <th>32576</th>\n",
       "      <td>57</td>\n",
       "      <td>53000</td>\n",
       "      <td>1.0</td>\n",
       "      <td>5800</td>\n",
       "      <td>13.16</td>\n",
       "      <td>0</td>\n",
       "      <td>0.11</td>\n",
       "      <td>1</td>\n",
       "      <td>30</td>\n",
       "      <td>1</td>\n",
       "      <td>0</td>\n",
       "      <td>0</td>\n",
       "      <td>0</td>\n",
       "      <td>0</td>\n",
       "      <td>0</td>\n",
       "      <td>0</td>\n",
       "      <td>1</td>\n",
       "    </tr>\n",
       "    <tr>\n",
       "      <th>32577</th>\n",
       "      <td>54</td>\n",
       "      <td>120000</td>\n",
       "      <td>4.0</td>\n",
       "      <td>17625</td>\n",
       "      <td>7.49</td>\n",
       "      <td>0</td>\n",
       "      <td>0.15</td>\n",
       "      <td>1</td>\n",
       "      <td>19</td>\n",
       "      <td>1</td>\n",
       "      <td>0</td>\n",
       "      <td>0</td>\n",
       "      <td>0</td>\n",
       "      <td>0</td>\n",
       "      <td>0</td>\n",
       "      <td>0</td>\n",
       "      <td>1</td>\n",
       "    </tr>\n",
       "    <tr>\n",
       "      <th>32578</th>\n",
       "      <td>65</td>\n",
       "      <td>76000</td>\n",
       "      <td>3.0</td>\n",
       "      <td>35000</td>\n",
       "      <td>10.99</td>\n",
       "      <td>1</td>\n",
       "      <td>0.46</td>\n",
       "      <td>1</td>\n",
       "      <td>28</td>\n",
       "      <td>0</td>\n",
       "      <td>0</td>\n",
       "      <td>1</td>\n",
       "      <td>0</td>\n",
       "      <td>0</td>\n",
       "      <td>1</td>\n",
       "      <td>0</td>\n",
       "      <td>0</td>\n",
       "    </tr>\n",
       "    <tr>\n",
       "      <th>32579</th>\n",
       "      <td>56</td>\n",
       "      <td>150000</td>\n",
       "      <td>5.0</td>\n",
       "      <td>15000</td>\n",
       "      <td>11.48</td>\n",
       "      <td>0</td>\n",
       "      <td>0.10</td>\n",
       "      <td>1</td>\n",
       "      <td>26</td>\n",
       "      <td>1</td>\n",
       "      <td>0</td>\n",
       "      <td>0</td>\n",
       "      <td>0</td>\n",
       "      <td>0</td>\n",
       "      <td>0</td>\n",
       "      <td>0</td>\n",
       "      <td>1</td>\n",
       "    </tr>\n",
       "    <tr>\n",
       "      <th>32580</th>\n",
       "      <td>66</td>\n",
       "      <td>42000</td>\n",
       "      <td>2.0</td>\n",
       "      <td>6475</td>\n",
       "      <td>9.99</td>\n",
       "      <td>0</td>\n",
       "      <td>0.15</td>\n",
       "      <td>1</td>\n",
       "      <td>30</td>\n",
       "      <td>0</td>\n",
       "      <td>0</td>\n",
       "      <td>1</td>\n",
       "      <td>0</td>\n",
       "      <td>0</td>\n",
       "      <td>0</td>\n",
       "      <td>1</td>\n",
       "      <td>0</td>\n",
       "    </tr>\n",
       "  </tbody>\n",
       "</table>\n",
       "<p>28634 rows × 17 columns</p>\n",
       "</div>"
      ],
      "text/plain": [
       "       person_age  person_income  person_emp_length  loan_amnt  loan_int_rate   \n",
       "0              22          59000              123.0      35000          16.02  \\\n",
       "1              21           9600                5.0       1000          11.14   \n",
       "2              25           9600                1.0       5500          12.87   \n",
       "3              23          65500                4.0      35000          15.23   \n",
       "4              24          54400                8.0      35000          14.27   \n",
       "...           ...            ...                ...        ...            ...   \n",
       "32576          57          53000                1.0       5800          13.16   \n",
       "32577          54         120000                4.0      17625           7.49   \n",
       "32578          65          76000                3.0      35000          10.99   \n",
       "32579          56         150000                5.0      15000          11.48   \n",
       "32580          66          42000                2.0       6475           9.99   \n",
       "\n",
       "       loan_status  loan_percent_income cb_person_default_on_file   \n",
       "0                1                 0.59                         0  \\\n",
       "1                0                 0.10                         1   \n",
       "2                1                 0.57                         1   \n",
       "3                1                 0.53                         1   \n",
       "4                1                 0.55                         0   \n",
       "...            ...                  ...                       ...   \n",
       "32576            0                 0.11                         1   \n",
       "32577            0                 0.15                         1   \n",
       "32578            1                 0.46                         1   \n",
       "32579            0                 0.10                         1   \n",
       "32580            0                 0.15                         1   \n",
       "\n",
       "       cb_person_cred_hist_length  person_home_ownership_MORTGAGE   \n",
       "0                               3                               0  \\\n",
       "1                               2                               0   \n",
       "2                               3                               1   \n",
       "3                               2                               0   \n",
       "4                               4                               0   \n",
       "...                           ...                             ...   \n",
       "32576                          30                               1   \n",
       "32577                          19                               1   \n",
       "32578                          28                               0   \n",
       "32579                          26                               1   \n",
       "32580                          30                               0   \n",
       "\n",
       "       person_home_ownership_OWN  person_home_ownership_RENT   \n",
       "0                              0                           1  \\\n",
       "1                              1                           0   \n",
       "2                              0                           0   \n",
       "3                              0                           1   \n",
       "4                              0                           1   \n",
       "...                          ...                         ...   \n",
       "32576                          0                           0   \n",
       "32577                          0                           0   \n",
       "32578                          0                           1   \n",
       "32579                          0                           0   \n",
       "32580                          0                           1   \n",
       "\n",
       "       loan_intent_DEBTCONSOLIDATION  loan_intent_EDUCATION   \n",
       "0                                  0                      0  \\\n",
       "1                                  0                      1   \n",
       "2                                  0                      0   \n",
       "3                                  0                      0   \n",
       "4                                  0                      0   \n",
       "...                              ...                    ...   \n",
       "32576                              0                      0   \n",
       "32577                              0                      0   \n",
       "32578                              0                      0   \n",
       "32579                              0                      0   \n",
       "32580                              0                      0   \n",
       "\n",
       "       loan_intent_HOMEIMPROVEMENT  loan_intent_MEDICAL  loan_intent_PERSONAL  \n",
       "0                                0                    0                     1  \n",
       "1                                0                    0                     0  \n",
       "2                                0                    1                     0  \n",
       "3                                0                    1                     0  \n",
       "4                                0                    1                     0  \n",
       "...                            ...                  ...                   ...  \n",
       "32576                            0                    0                     1  \n",
       "32577                            0                    0                     1  \n",
       "32578                            1                    0                     0  \n",
       "32579                            0                    0                     1  \n",
       "32580                            0                    1                     0  \n",
       "\n",
       "[28634 rows x 17 columns]"
      ]
     },
     "execution_count": 11,
     "metadata": {},
     "output_type": "execute_result"
    }
   ],
   "source": [
    "clean_cred_df"
   ]
  },
  {
   "cell_type": "code",
   "execution_count": 12,
   "id": "alBdVrGc7mvY",
   "metadata": {
    "colab": {
     "base_uri": "https://localhost:8080/"
    },
    "id": "alBdVrGc7mvY",
    "outputId": "7f0f9cd2-1276-4e64-9af9-23fb8af242a5"
   },
   "outputs": [
    {
     "data": {
      "text/plain": [
       "array([ 5.,  1.,  4.,  8.,  2.,  6.,  7.,  0.,  9.,  3., 10., 11., 18.,\n",
       "       12., 17., 14., 16., 13., 19., 15., 22., 20., 21., 24., 23., 26.,\n",
       "       25., 27., 31., 28., 41., 34., 29., 38., 30.])"
      ]
     },
     "execution_count": 12,
     "metadata": {},
     "output_type": "execute_result"
    }
   ],
   "source": [
    "# check employment length and drop any odd values\n",
    "clean_cred_df.drop(clean_cred_df[clean_cred_df['person_emp_length']>= 60].index, inplace=True)\n",
    "clean_cred_df['person_emp_length'].unique()"
   ]
  },
  {
   "cell_type": "code",
   "execution_count": 13,
   "id": "J1SW-Xk37mx2",
   "metadata": {
    "colab": {
     "base_uri": "https://localhost:8080/"
    },
    "id": "J1SW-Xk37mx2",
    "outputId": "2743fcdd-02ba-4175-cbde-74a7942dc5c5"
   },
   "outputs": [
    {
     "data": {
      "text/plain": [
       "array([0.1 , 0.57, 0.53, 0.55, 0.25, 0.45, 0.44, 0.42, 0.16, 0.41, 0.37,\n",
       "       0.32, 0.3 , 0.06, 0.29, 0.31, 0.22, 0.52, 0.14, 0.49, 0.13, 0.5 ,\n",
       "       0.35, 0.17, 0.27, 0.33, 0.08, 0.03, 0.21, 0.63, 0.47, 0.4 , 0.07,\n",
       "       0.38, 0.34, 0.04, 0.23, 0.11, 0.43, 0.51, 0.28, 0.19, 0.39, 0.09,\n",
       "       0.05, 0.15, 0.59, 0.18, 0.6 , 0.48, 0.12, 0.54, 0.56, 0.46, 0.36,\n",
       "       0.24, 0.02, 0.26, 0.2 , 0.72, 0.64, 0.69, 0.77, 0.61, 0.83, 0.65,\n",
       "       0.67, 0.58, 0.71, 0.68, 0.7 , 0.66, 0.76, 0.62, 0.78])"
      ]
     },
     "execution_count": 13,
     "metadata": {},
     "output_type": "execute_result"
    }
   ],
   "source": [
    "# check loan_percent_income and drop any odd values\n",
    "clean_cred_df.drop(clean_cred_df[clean_cred_df['loan_percent_income']<= .01].index, inplace=True)\n",
    "clean_cred_df['loan_percent_income'].unique()"
   ]
  },
  {
   "cell_type": "code",
   "execution_count": 14,
   "id": "1kPtoJuH7m0W",
   "metadata": {
    "colab": {
     "base_uri": "https://localhost:8080/"
    },
    "id": "1kPtoJuH7m0W",
    "outputId": "f80b1f18-f4c3-430a-ba36-41fa329d428d"
   },
   "outputs": [
    {
     "name": "stdout",
     "output_type": "stream",
     "text": [
      "quartiles = [ 7.9  13.48] & IQR = 5.58\n",
      "lower bound = -0.47000000000000064 & upper bound = 21.85\n"
     ]
    },
    {
     "data": {
      "text/plain": [
       "[22.11, 22.11, 22.06, 22.11, 22.48, 23.22]"
      ]
     },
     "execution_count": 14,
     "metadata": {},
     "output_type": "execute_result"
    }
   ],
   "source": [
    "# check interest rates for any outliers\n",
    "clean_cred_df['loan_int_rate']\n",
    "\n",
    "int_outlier = clean_cred_df['loan_int_rate']\n",
    "quartiles = np.quantile(int_outlier,[.25,.75])\n",
    "iqr = quartiles[1]-quartiles[0]\n",
    "lower_bound = quartiles[0]-(1.5*iqr)\n",
    "upper_bound = quartiles[1]+(1.5*iqr)\n",
    "print (f\"quartiles = {quartiles} & IQR = {iqr}\")\n",
    "print (f\"lower bound = {lower_bound} & upper bound = {upper_bound}\")\n",
    "potential_outliers_int_outlier = [value for value in int_outlier if value < lower_bound or value > upper_bound]\n",
    "potential_outliers_int_outlier"
   ]
  },
  {
   "cell_type": "code",
   "execution_count": 15,
   "id": "faYrtHSQ7m28",
   "metadata": {
    "colab": {
     "base_uri": "https://localhost:8080/",
     "height": 270
    },
    "id": "faYrtHSQ7m28",
    "outputId": "50a06616-c71b-40f6-af8a-82d9b36a66a4"
   },
   "outputs": [
    {
     "data": {
      "text/html": [
       "<div>\n",
       "<style scoped>\n",
       "    .dataframe tbody tr th:only-of-type {\n",
       "        vertical-align: middle;\n",
       "    }\n",
       "\n",
       "    .dataframe tbody tr th {\n",
       "        vertical-align: top;\n",
       "    }\n",
       "\n",
       "    .dataframe thead th {\n",
       "        text-align: right;\n",
       "    }\n",
       "</style>\n",
       "<table border=\"1\" class=\"dataframe\">\n",
       "  <thead>\n",
       "    <tr style=\"text-align: right;\">\n",
       "      <th></th>\n",
       "      <th>person_age</th>\n",
       "      <th>person_income</th>\n",
       "      <th>person_emp_length</th>\n",
       "      <th>loan_amnt</th>\n",
       "      <th>loan_int_rate</th>\n",
       "      <th>loan_percent_income</th>\n",
       "      <th>cb_person_default_on_file</th>\n",
       "      <th>cb_person_cred_hist_length</th>\n",
       "      <th>person_home_ownership_MORTGAGE</th>\n",
       "      <th>person_home_ownership_OWN</th>\n",
       "      <th>person_home_ownership_RENT</th>\n",
       "      <th>loan_intent_DEBTCONSOLIDATION</th>\n",
       "      <th>loan_intent_EDUCATION</th>\n",
       "      <th>loan_intent_HOMEIMPROVEMENT</th>\n",
       "      <th>loan_intent_MEDICAL</th>\n",
       "      <th>loan_intent_PERSONAL</th>\n",
       "    </tr>\n",
       "  </thead>\n",
       "  <tbody>\n",
       "    <tr>\n",
       "      <th>1</th>\n",
       "      <td>21</td>\n",
       "      <td>9600</td>\n",
       "      <td>5.0</td>\n",
       "      <td>1000</td>\n",
       "      <td>11.14</td>\n",
       "      <td>0.10</td>\n",
       "      <td>1</td>\n",
       "      <td>2</td>\n",
       "      <td>0</td>\n",
       "      <td>1</td>\n",
       "      <td>0</td>\n",
       "      <td>0</td>\n",
       "      <td>1</td>\n",
       "      <td>0</td>\n",
       "      <td>0</td>\n",
       "      <td>0</td>\n",
       "    </tr>\n",
       "    <tr>\n",
       "      <th>2</th>\n",
       "      <td>25</td>\n",
       "      <td>9600</td>\n",
       "      <td>1.0</td>\n",
       "      <td>5500</td>\n",
       "      <td>12.87</td>\n",
       "      <td>0.57</td>\n",
       "      <td>1</td>\n",
       "      <td>3</td>\n",
       "      <td>1</td>\n",
       "      <td>0</td>\n",
       "      <td>0</td>\n",
       "      <td>0</td>\n",
       "      <td>0</td>\n",
       "      <td>0</td>\n",
       "      <td>1</td>\n",
       "      <td>0</td>\n",
       "    </tr>\n",
       "    <tr>\n",
       "      <th>3</th>\n",
       "      <td>23</td>\n",
       "      <td>65500</td>\n",
       "      <td>4.0</td>\n",
       "      <td>35000</td>\n",
       "      <td>15.23</td>\n",
       "      <td>0.53</td>\n",
       "      <td>1</td>\n",
       "      <td>2</td>\n",
       "      <td>0</td>\n",
       "      <td>0</td>\n",
       "      <td>1</td>\n",
       "      <td>0</td>\n",
       "      <td>0</td>\n",
       "      <td>0</td>\n",
       "      <td>1</td>\n",
       "      <td>0</td>\n",
       "    </tr>\n",
       "    <tr>\n",
       "      <th>4</th>\n",
       "      <td>24</td>\n",
       "      <td>54400</td>\n",
       "      <td>8.0</td>\n",
       "      <td>35000</td>\n",
       "      <td>14.27</td>\n",
       "      <td>0.55</td>\n",
       "      <td>0</td>\n",
       "      <td>4</td>\n",
       "      <td>0</td>\n",
       "      <td>0</td>\n",
       "      <td>1</td>\n",
       "      <td>0</td>\n",
       "      <td>0</td>\n",
       "      <td>0</td>\n",
       "      <td>1</td>\n",
       "      <td>0</td>\n",
       "    </tr>\n",
       "    <tr>\n",
       "      <th>5</th>\n",
       "      <td>21</td>\n",
       "      <td>9900</td>\n",
       "      <td>2.0</td>\n",
       "      <td>2500</td>\n",
       "      <td>7.14</td>\n",
       "      <td>0.25</td>\n",
       "      <td>1</td>\n",
       "      <td>2</td>\n",
       "      <td>0</td>\n",
       "      <td>1</td>\n",
       "      <td>0</td>\n",
       "      <td>0</td>\n",
       "      <td>0</td>\n",
       "      <td>0</td>\n",
       "      <td>0</td>\n",
       "      <td>0</td>\n",
       "    </tr>\n",
       "  </tbody>\n",
       "</table>\n",
       "</div>"
      ],
      "text/plain": [
       "   person_age  person_income  person_emp_length  loan_amnt  loan_int_rate   \n",
       "1          21           9600                5.0       1000          11.14  \\\n",
       "2          25           9600                1.0       5500          12.87   \n",
       "3          23          65500                4.0      35000          15.23   \n",
       "4          24          54400                8.0      35000          14.27   \n",
       "5          21           9900                2.0       2500           7.14   \n",
       "\n",
       "   loan_percent_income cb_person_default_on_file  cb_person_cred_hist_length   \n",
       "1                 0.10                         1                           2  \\\n",
       "2                 0.57                         1                           3   \n",
       "3                 0.53                         1                           2   \n",
       "4                 0.55                         0                           4   \n",
       "5                 0.25                         1                           2   \n",
       "\n",
       "   person_home_ownership_MORTGAGE  person_home_ownership_OWN   \n",
       "1                               0                          1  \\\n",
       "2                               1                          0   \n",
       "3                               0                          0   \n",
       "4                               0                          0   \n",
       "5                               0                          1   \n",
       "\n",
       "   person_home_ownership_RENT  loan_intent_DEBTCONSOLIDATION   \n",
       "1                           0                              0  \\\n",
       "2                           0                              0   \n",
       "3                           1                              0   \n",
       "4                           1                              0   \n",
       "5                           0                              0   \n",
       "\n",
       "   loan_intent_EDUCATION  loan_intent_HOMEIMPROVEMENT  loan_intent_MEDICAL   \n",
       "1                      1                            0                    0  \\\n",
       "2                      0                            0                    1   \n",
       "3                      0                            0                    1   \n",
       "4                      0                            0                    1   \n",
       "5                      0                            0                    0   \n",
       "\n",
       "   loan_intent_PERSONAL  \n",
       "1                     0  \n",
       "2                     0  \n",
       "3                     0  \n",
       "4                     0  \n",
       "5                     0  "
      ]
     },
     "execution_count": 15,
     "metadata": {},
     "output_type": "execute_result"
    }
   ],
   "source": [
    "# Define features set\n",
    "X = clean_cred_df.copy()\n",
    "X.drop(\"loan_status\", axis=1, inplace=True)\n",
    "X.head()"
   ]
  },
  {
   "cell_type": "code",
   "execution_count": 16,
   "id": "GecCSVxdFKNd",
   "metadata": {
    "colab": {
     "base_uri": "https://localhost:8080/"
    },
    "id": "GecCSVxdFKNd",
    "outputId": "82772168-190e-4d8b-a58c-09c865b65de0"
   },
   "outputs": [
    {
     "data": {
      "text/plain": [
       "array([[0],\n",
       "       [1],\n",
       "       [1],\n",
       "       [1],\n",
       "       [1]])"
      ]
     },
     "execution_count": 16,
     "metadata": {},
     "output_type": "execute_result"
    }
   ],
   "source": [
    "# Define target vector\n",
    "y = clean_cred_df[\"loan_status\"].values.reshape(-1, 1)\n",
    "y = y.astype('int')\n",
    "y[:5]"
   ]
  },
  {
   "cell_type": "code",
   "execution_count": 17,
   "id": "xUD-CDz6FKP5",
   "metadata": {
    "id": "xUD-CDz6FKP5"
   },
   "outputs": [],
   "source": [
    "# split data into training and testing\n",
    "X_train, X_test, y_train, y_test = train_test_split(X, y, random_state=7)"
   ]
  },
  {
   "cell_type": "code",
   "execution_count": 18,
   "id": "L2nxxx55FKSi",
   "metadata": {
    "id": "L2nxxx55FKSi"
   },
   "outputs": [],
   "source": [
    "# Scale data\n",
    "# Create the StandardScaler instance\n",
    "scaler = StandardScaler()\n",
    "\n",
    "# Fit the Standard Scaler with the training data\n",
    "X_scaler = scaler.fit(X_train)\n",
    "\n",
    "# Scale the training data\n",
    "X_train_scaled = X_scaler.transform(X_train)\n",
    "X_test_scaled = X_scaler.transform(X_test)"
   ]
  },
  {
   "cell_type": "code",
   "execution_count": 19,
   "id": "oFx97_e9FKUa",
   "metadata": {
    "id": "oFx97_e9FKUa"
   },
   "outputs": [],
   "source": [
    "# Create the decision tree classifier instance\n",
    "model = tree.DecisionTreeClassifier()"
   ]
  },
  {
   "cell_type": "code",
   "execution_count": 20,
   "id": "8i8TirW0FYVm",
   "metadata": {
    "id": "8i8TirW0FYVm"
   },
   "outputs": [],
   "source": [
    "# Fit the model from decision tree classifier\n",
    "model = model.fit(X_train_scaled, y_train)"
   ]
  },
  {
   "cell_type": "code",
   "execution_count": 21,
   "id": "paSXQsYRFYX4",
   "metadata": {
    "id": "paSXQsYRFYX4"
   },
   "outputs": [],
   "source": [
    "# Making predictions using the testing data from decision tree classifier\n",
    "predictions = model.predict(X_test_scaled)"
   ]
  },
  {
   "cell_type": "code",
   "execution_count": 22,
   "id": "xSO_-aeVFYaV",
   "metadata": {
    "id": "xSO_-aeVFYaV"
   },
   "outputs": [],
   "source": [
    "# Calculating the confusion matrix for decision tree classifier\n",
    "cm = confusion_matrix(y_test, predictions)\n",
    "cm_df = pd.DataFrame(\n",
    "    cm, index=[\"Actual 0\", \"Actual 1\"], columns=[\"Predicted 0\", \"Predicted 1\"]\n",
    ")\n",
    "\n",
    "# Calculating the accuracy score\n",
    "acc_score = accuracy_score(y_test, predictions)"
   ]
  },
  {
   "cell_type": "code",
   "execution_count": 23,
   "id": "mezYJvsmFYc8",
   "metadata": {
    "colab": {
     "base_uri": "https://localhost:8080/"
    },
    "id": "mezYJvsmFYc8",
    "outputId": "68d05bbe-0c49-4bb9-ccef-3a78ece50514"
   },
   "outputs": [
    {
     "name": "stdout",
     "output_type": "stream",
     "text": [
      "Confusion Matrix\n",
      "Accuracy Score : 0.8731228070175439\n",
      "Classification Report\n",
      "              precision    recall  f1-score   support\n",
      "\n",
      "           0       0.92      0.91      0.92      5576\n",
      "           1       0.70      0.73      0.71      1549\n",
      "\n",
      "    accuracy                           0.87      7125\n",
      "   macro avg       0.81      0.82      0.82      7125\n",
      "weighted avg       0.88      0.87      0.87      7125\n",
      "\n"
     ]
    }
   ],
   "source": [
    "# Displaying results of decision tree classifier\n",
    "print(\"Confusion Matrix\")\n",
    "print(f\"Accuracy Score : {acc_score}\")\n",
    "print(\"Classification Report\")\n",
    "print(classification_report(y_test, predictions))"
   ]
  },
  {
   "cell_type": "code",
   "execution_count": 24,
   "id": "phUx3_dhFYfQ",
   "metadata": {
    "colab": {
     "base_uri": "https://localhost:8080/"
    },
    "id": "phUx3_dhFYfQ",
    "outputId": "a0aa7530-2a79-448d-dd32-4a98d982f974"
   },
   "outputs": [
    {
     "name": "stderr",
     "output_type": "stream",
     "text": [
      "C:\\Users\\LAHUNT\\AppData\\Local\\Programs\\Python\\Python311\\Lib\\site-packages\\sklearn\\utils\\validation.py:1143: DataConversionWarning: A column-vector y was passed when a 1d array was expected. Please change the shape of y to (n_samples, ), for example using ravel().\n",
      "  y = column_or_1d(y, warn=True)\n"
     ]
    }
   ],
   "source": [
    "# Remaking model with SVC\n",
    "from sklearn.svm import SVC \n",
    "model_2 = SVC(kernel='linear')\n",
    "model_2 = model_2.fit(X_train_scaled, y_train)"
   ]
  },
  {
   "cell_type": "code",
   "execution_count": 25,
   "id": "KmWyXcUhFYhw",
   "metadata": {
    "id": "KmWyXcUhFYhw"
   },
   "outputs": [],
   "source": [
    "# Making predictions using the testing data from SVC model\n",
    "predictions_2 = model_2.predict(X_test_scaled)"
   ]
  },
  {
   "cell_type": "code",
   "execution_count": 26,
   "id": "HejP1mwsGNw9",
   "metadata": {
    "id": "HejP1mwsGNw9"
   },
   "outputs": [],
   "source": [
    "# Calculating the confusion matrix for SVC\n",
    "cm_2 = confusion_matrix(y_test, predictions_2)\n",
    "cm_2_df = pd.DataFrame(\n",
    "    cm_2, index=[\"Actual 0\", \"Actual 1\"], columns=[\"Predicted 0\", \"Predicted 1\"]\n",
    ")\n",
    "\n",
    "# Calculating the accuracy score\n",
    "acc_score_2 = accuracy_score(y_test, predictions_2)"
   ]
  },
  {
   "cell_type": "code",
   "execution_count": 27,
   "id": "pkswbNa6GNzd",
   "metadata": {
    "colab": {
     "base_uri": "https://localhost:8080/",
     "height": 326
    },
    "id": "pkswbNa6GNzd",
    "outputId": "d479aa69-b39c-4d47-e2c4-776d422d12dc"
   },
   "outputs": [
    {
     "name": "stdout",
     "output_type": "stream",
     "text": [
      "Confusion Matrix\n"
     ]
    },
    {
     "data": {
      "text/html": [
       "<div>\n",
       "<style scoped>\n",
       "    .dataframe tbody tr th:only-of-type {\n",
       "        vertical-align: middle;\n",
       "    }\n",
       "\n",
       "    .dataframe tbody tr th {\n",
       "        vertical-align: top;\n",
       "    }\n",
       "\n",
       "    .dataframe thead th {\n",
       "        text-align: right;\n",
       "    }\n",
       "</style>\n",
       "<table border=\"1\" class=\"dataframe\">\n",
       "  <thead>\n",
       "    <tr style=\"text-align: right;\">\n",
       "      <th></th>\n",
       "      <th>Predicted 0</th>\n",
       "      <th>Predicted 1</th>\n",
       "    </tr>\n",
       "  </thead>\n",
       "  <tbody>\n",
       "    <tr>\n",
       "      <th>Actual 0</th>\n",
       "      <td>5346</td>\n",
       "      <td>230</td>\n",
       "    </tr>\n",
       "    <tr>\n",
       "      <th>Actual 1</th>\n",
       "      <td>878</td>\n",
       "      <td>671</td>\n",
       "    </tr>\n",
       "  </tbody>\n",
       "</table>\n",
       "</div>"
      ],
      "text/plain": [
       "          Predicted 0  Predicted 1\n",
       "Actual 0         5346          230\n",
       "Actual 1          878          671"
      ]
     },
     "metadata": {},
     "output_type": "display_data"
    },
    {
     "name": "stdout",
     "output_type": "stream",
     "text": [
      "Accuracy Score : 0.8444912280701754\n",
      "Classification Report\n",
      "              precision    recall  f1-score   support\n",
      "\n",
      "           0       0.86      0.96      0.91      5576\n",
      "           1       0.74      0.43      0.55      1549\n",
      "\n",
      "    accuracy                           0.84      7125\n",
      "   macro avg       0.80      0.70      0.73      7125\n",
      "weighted avg       0.83      0.84      0.83      7125\n",
      "\n"
     ]
    }
   ],
   "source": [
    "# Displaying results of decision tree classifier\n",
    "print(\"Confusion Matrix\")\n",
    "display(cm_2_df)\n",
    "print(f\"Accuracy Score : {acc_score_2}\")\n",
    "print(\"Classification Report\")\n",
    "print(classification_report(y_test, predictions_2))"
   ]
  },
  {
   "cell_type": "code",
   "execution_count": 28,
   "id": "14phEMAcGN10",
   "metadata": {
    "colab": {
     "base_uri": "https://localhost:8080/"
    },
    "id": "14phEMAcGN10",
    "outputId": "288aa58c-7295-41eb-e3a9-b3fa7a7d31e4"
   },
   "outputs": [
    {
     "name": "stderr",
     "output_type": "stream",
     "text": [
      "C:\\Users\\LAHUNT\\AppData\\Local\\Programs\\Python\\Python311\\Lib\\site-packages\\sklearn\\utils\\validation.py:1143: DataConversionWarning: A column-vector y was passed when a 1d array was expected. Please change the shape of y to (n_samples, ), for example using ravel().\n",
      "  y = column_or_1d(y, warn=True)\n"
     ]
    }
   ],
   "source": [
    "# Remaking model with Logistic Regression\n",
    "from sklearn.linear_model import LogisticRegression\n",
    "model_3 = LogisticRegression(solver='liblinear', random_state=1)\n",
    "model_3 = model_3.fit(X_train_scaled, y_train)"
   ]
  },
  {
   "cell_type": "code",
   "execution_count": 29,
   "id": "QCSV2FlcGN4Q",
   "metadata": {
    "id": "QCSV2FlcGN4Q"
   },
   "outputs": [],
   "source": [
    "# Making predictions using the testing data from logistic regression\n",
    "predictions_3 = model_3.predict(X_test_scaled)"
   ]
  },
  {
   "cell_type": "code",
   "execution_count": 30,
   "id": "LZqU1dDUGN6S",
   "metadata": {
    "id": "LZqU1dDUGN6S"
   },
   "outputs": [],
   "source": [
    "# Calculating the confusion matrix for logistic regression\n",
    "cm_3 = confusion_matrix(y_test, predictions_3)\n",
    "cm_3_df = pd.DataFrame(\n",
    "    cm_3, index=[\"Actual 0\", \"Actual 1\"], columns=[\"Predicted 0\", \"Predicted 1\"]\n",
    ")\n",
    "\n",
    "# Calculating the accuracy score\n",
    "acc_score_3 = accuracy_score(y_test, predictions_3)"
   ]
  },
  {
   "cell_type": "code",
   "execution_count": 31,
   "id": "tFznfJRyGrWn",
   "metadata": {
    "colab": {
     "base_uri": "https://localhost:8080/",
     "height": 326
    },
    "id": "tFznfJRyGrWn",
    "outputId": "77397243-ae28-4954-9bb3-2610e78ff6f1"
   },
   "outputs": [
    {
     "name": "stdout",
     "output_type": "stream",
     "text": [
      "Confusion Matrix\n"
     ]
    },
    {
     "data": {
      "text/html": [
       "<div>\n",
       "<style scoped>\n",
       "    .dataframe tbody tr th:only-of-type {\n",
       "        vertical-align: middle;\n",
       "    }\n",
       "\n",
       "    .dataframe tbody tr th {\n",
       "        vertical-align: top;\n",
       "    }\n",
       "\n",
       "    .dataframe thead th {\n",
       "        text-align: right;\n",
       "    }\n",
       "</style>\n",
       "<table border=\"1\" class=\"dataframe\">\n",
       "  <thead>\n",
       "    <tr style=\"text-align: right;\">\n",
       "      <th></th>\n",
       "      <th>Predicted 0</th>\n",
       "      <th>Predicted 1</th>\n",
       "    </tr>\n",
       "  </thead>\n",
       "  <tbody>\n",
       "    <tr>\n",
       "      <th>Actual 0</th>\n",
       "      <td>5293</td>\n",
       "      <td>283</td>\n",
       "    </tr>\n",
       "    <tr>\n",
       "      <th>Actual 1</th>\n",
       "      <td>795</td>\n",
       "      <td>754</td>\n",
       "    </tr>\n",
       "  </tbody>\n",
       "</table>\n",
       "</div>"
      ],
      "text/plain": [
       "          Predicted 0  Predicted 1\n",
       "Actual 0         5293          283\n",
       "Actual 1          795          754"
      ]
     },
     "metadata": {},
     "output_type": "display_data"
    },
    {
     "name": "stdout",
     "output_type": "stream",
     "text": [
      "Accuracy Score : 0.848701754385965\n",
      "Classification Report\n",
      "              precision    recall  f1-score   support\n",
      "\n",
      "           0       0.87      0.95      0.91      5576\n",
      "           1       0.73      0.49      0.58      1549\n",
      "\n",
      "    accuracy                           0.85      7125\n",
      "   macro avg       0.80      0.72      0.75      7125\n",
      "weighted avg       0.84      0.85      0.84      7125\n",
      "\n"
     ]
    }
   ],
   "source": [
    "# Displaying results of logistic regression\n",
    "print(\"Confusion Matrix\")\n",
    "display(cm_3_df)\n",
    "print(f\"Accuracy Score : {acc_score_3}\")\n",
    "print(\"Classification Report\")\n",
    "print(classification_report(y_test, predictions_3))"
   ]
  },
  {
   "cell_type": "code",
   "execution_count": 32,
   "id": "EJdsRzXWGrbe",
   "metadata": {
    "colab": {
     "base_uri": "https://localhost:8080/"
    },
    "id": "EJdsRzXWGrbe",
    "outputId": "19d366fc-d54f-48bd-b9f8-7468ecbc7ba3"
   },
   "outputs": [
    {
     "name": "stderr",
     "output_type": "stream",
     "text": [
      "C:\\Users\\LAHUNT\\AppData\\Local\\Programs\\Python\\Python311\\Lib\\site-packages\\sklearn\\neighbors\\_classification.py:215: DataConversionWarning: A column-vector y was passed when a 1d array was expected. Please change the shape of y to (n_samples,), for example using ravel().\n",
      "  return self._fit(X, y)\n"
     ]
    }
   ],
   "source": [
    "# Remaking model with KNeighborsClassifier\n",
    "from sklearn.neighbors import KNeighborsClassifier\n",
    "model_4 = KNeighborsClassifier(n_neighbors=9)\n",
    "model_4 = model_4.fit(X_train_scaled, y_train)"
   ]
  },
  {
   "cell_type": "code",
   "execution_count": 33,
   "id": "sIy6RobGGxwL",
   "metadata": {
    "id": "sIy6RobGGxwL"
   },
   "outputs": [],
   "source": [
    "# Making predictions using the testing data from KNeighborsClassifier\n",
    "predictions_4 = model_4.predict(X_test_scaled)"
   ]
  },
  {
   "cell_type": "code",
   "execution_count": 34,
   "id": "C2XY3Mw5Gxy6",
   "metadata": {
    "id": "C2XY3Mw5Gxy6"
   },
   "outputs": [],
   "source": [
    "# Calculating the confusion matrix for logistic regression\n",
    "cm_4 = confusion_matrix(y_test, predictions_4)\n",
    "cm_4_df = pd.DataFrame(\n",
    "    cm_4, index=[\"Actual 0\", \"Actual 1\"], columns=[\"Predicted 0\", \"Predicted 1\"]\n",
    ")\n",
    "\n",
    "# Calculating the accuracy score\n",
    "acc_score_4 = accuracy_score(y_test, predictions_4)"
   ]
  },
  {
   "cell_type": "code",
   "execution_count": 53,
   "id": "Zw7iJUUsGx1g",
   "metadata": {
    "colab": {
     "base_uri": "https://localhost:8080/",
     "height": 326
    },
    "id": "Zw7iJUUsGx1g",
    "outputId": "979b9e13-9174-4c00-ae69-8199bb467603"
   },
   "outputs": [
    {
     "name": "stdout",
     "output_type": "stream",
     "text": [
      "Confusion Matrix\n"
     ]
    },
    {
     "data": {
      "text/html": [
       "<div>\n",
       "<style scoped>\n",
       "    .dataframe tbody tr th:only-of-type {\n",
       "        vertical-align: middle;\n",
       "    }\n",
       "\n",
       "    .dataframe tbody tr th {\n",
       "        vertical-align: top;\n",
       "    }\n",
       "\n",
       "    .dataframe thead th {\n",
       "        text-align: right;\n",
       "    }\n",
       "</style>\n",
       "<table border=\"1\" class=\"dataframe\">\n",
       "  <thead>\n",
       "    <tr style=\"text-align: right;\">\n",
       "      <th></th>\n",
       "      <th>Predicted 0</th>\n",
       "      <th>Predicted 1</th>\n",
       "    </tr>\n",
       "  </thead>\n",
       "  <tbody>\n",
       "    <tr>\n",
       "      <th>Actual 0</th>\n",
       "      <td>5437</td>\n",
       "      <td>139</td>\n",
       "    </tr>\n",
       "    <tr>\n",
       "      <th>Actual 1</th>\n",
       "      <td>751</td>\n",
       "      <td>798</td>\n",
       "    </tr>\n",
       "  </tbody>\n",
       "</table>\n",
       "</div>"
      ],
      "text/plain": [
       "          Predicted 0  Predicted 1\n",
       "Actual 0         5437          139\n",
       "Actual 1          751          798"
      ]
     },
     "metadata": {},
     "output_type": "display_data"
    },
    {
     "name": "stdout",
     "output_type": "stream",
     "text": [
      "Accuracy Score : 0.8750877192982456\n",
      "Classification Report\n",
      "              precision    recall  f1-score   support\n",
      "\n",
      "           0       0.88      0.98      0.92      5576\n",
      "           1       0.85      0.52      0.64      1549\n",
      "\n",
      "    accuracy                           0.88      7125\n",
      "   macro avg       0.87      0.75      0.78      7125\n",
      "weighted avg       0.87      0.88      0.86      7125\n",
      "\n"
     ]
    }
   ],
   "source": [
    "# Displaying results of logistic regression\n",
    "print(\"Confusion Matrix\")\n",
    "display(cm_4_df)\n",
    "print(f\"Accuracy Score : {acc_score_4}\")\n",
    "print(\"Classification Report\")\n",
    "print(classification_report(y_test, predictions_4))"
   ]
  },
  {
   "cell_type": "code",
   "execution_count": 74,
   "id": "SwcO7v1yGx3-",
   "metadata": {
    "id": "SwcO7v1yGx3-"
   },
   "outputs": [
    {
     "name": "stderr",
     "output_type": "stream",
     "text": [
      "C:\\Users\\LAHUNT\\AppData\\Local\\Temp\\ipykernel_3560\\2664256123.py:5: DataConversionWarning: A column-vector y was passed when a 1d array was expected. Please change the shape of y to (n_samples,), for example using ravel().\n",
      "  rf_model = rf_model.fit(X_train_scaled, y_train)\n"
     ]
    }
   ],
   "source": [
    "# Create a random forest classifier\n",
    "rf_model = RandomForestClassifier(n_estimators=100, random_state=78, criterion='gini')\n",
    "\n",
    "# Fitting the model\n",
    "rf_model = rf_model.fit(X_train_scaled, y_train)\n",
    "\n",
    "# Making predictions using the testing data\n",
    "predictions_rf = rf_model.predict(X_test_scaled)"
   ]
  },
  {
   "cell_type": "code",
   "execution_count": 75,
   "id": "rIt0fUUEGx6f",
   "metadata": {
    "id": "rIt0fUUEGx6f"
   },
   "outputs": [],
   "source": [
    "# Calculating the confusion matrix\n",
    "cm_rf = confusion_matrix(y_test, predictions_rf)\n",
    "cm_rf_df = pd.DataFrame(\n",
    "    cm_rf, index=[\"Actual 0\", \"Actual 1\"], columns=[\"Predicted 0\", \"Predicted 1\"]\n",
    ")\n",
    "\n",
    "# Calculating the accuracy score\n",
    "acc_score_rf = accuracy_score(y_test, predictions_rf)"
   ]
  },
  {
   "cell_type": "code",
   "execution_count": 76,
   "id": "eXDpDUv7Gx8t",
   "metadata": {
    "id": "eXDpDUv7Gx8t"
   },
   "outputs": [
    {
     "name": "stdout",
     "output_type": "stream",
     "text": [
      "Confusion Matrix\n"
     ]
    },
    {
     "data": {
      "text/html": [
       "<div>\n",
       "<style scoped>\n",
       "    .dataframe tbody tr th:only-of-type {\n",
       "        vertical-align: middle;\n",
       "    }\n",
       "\n",
       "    .dataframe tbody tr th {\n",
       "        vertical-align: top;\n",
       "    }\n",
       "\n",
       "    .dataframe thead th {\n",
       "        text-align: right;\n",
       "    }\n",
       "</style>\n",
       "<table border=\"1\" class=\"dataframe\">\n",
       "  <thead>\n",
       "    <tr style=\"text-align: right;\">\n",
       "      <th></th>\n",
       "      <th>Predicted 0</th>\n",
       "      <th>Predicted 1</th>\n",
       "    </tr>\n",
       "  </thead>\n",
       "  <tbody>\n",
       "    <tr>\n",
       "      <th>Actual 0</th>\n",
       "      <td>5502</td>\n",
       "      <td>74</td>\n",
       "    </tr>\n",
       "    <tr>\n",
       "      <th>Actual 1</th>\n",
       "      <td>496</td>\n",
       "      <td>1053</td>\n",
       "    </tr>\n",
       "  </tbody>\n",
       "</table>\n",
       "</div>"
      ],
      "text/plain": [
       "          Predicted 0  Predicted 1\n",
       "Actual 0         5502           74\n",
       "Actual 1          496         1053"
      ]
     },
     "metadata": {},
     "output_type": "display_data"
    },
    {
     "name": "stdout",
     "output_type": "stream",
     "text": [
      "Accuracy Score : 0.92\n",
      "Classification Report\n",
      "              precision    recall  f1-score   support\n",
      "\n",
      "           0       0.92      0.99      0.95      5576\n",
      "           1       0.93      0.68      0.79      1549\n",
      "\n",
      "    accuracy                           0.92      7125\n",
      "   macro avg       0.93      0.83      0.87      7125\n",
      "weighted avg       0.92      0.92      0.92      7125\n",
      "\n"
     ]
    }
   ],
   "source": [
    "# Displaying results\n",
    "print(\"Confusion Matrix\")\n",
    "display(cm_rf_df)\n",
    "print(f\"Accuracy Score : {acc_score_rf}\")\n",
    "print(\"Classification Report\")\n",
    "print(classification_report(y_test, predictions_rf))"
   ]
  },
  {
   "cell_type": "code",
   "execution_count": 57,
   "id": "a8d38475",
   "metadata": {},
   "outputs": [
    {
     "data": {
      "text/plain": [
       "[(0.35817629101046006, 'loan_percent_income'),\n",
       " (0.26794465704561954, 'loan_int_rate'),\n",
       " (0.1395343285445395, 'person_income'),\n",
       " (0.09978100109291968, 'person_home_ownership_RENT'),\n",
       " (0.04505342359076081, 'person_home_ownership_MORTGAGE'),\n",
       " (0.03398542392165556, 'cb_person_default_on_file'),\n",
       " (0.02871934736826838, 'loan_amnt'),\n",
       " (0.011270064639924273, 'person_home_ownership_OWN'),\n",
       " (0.007389464857324654, 'person_emp_length'),\n",
       " (0.003924381834500814, 'loan_intent_DEBTCONSOLIDATION'),\n",
       " (0.0030792452982974505, 'loan_intent_MEDICAL'),\n",
       " (0.0007305426968499178, 'loan_intent_EDUCATION'),\n",
       " (0.00036585779501530904, 'loan_intent_HOMEIMPROVEMENT'),\n",
       " (4.597030386407389e-05, 'person_age'),\n",
       " (0.0, 'loan_intent_PERSONAL'),\n",
       " (0.0, 'cb_person_cred_hist_length')]"
      ]
     },
     "execution_count": 57,
     "metadata": {},
     "output_type": "execute_result"
    }
   ],
   "source": [
    "# Random Forests in sklearn will automatically calculate feature importance\n",
    "importances = rf_model.feature_importances_\n",
    "# We can sort the features by their importance\n",
    "sorted(zip(rf_model.feature_importances_, X.columns), reverse=True)"
   ]
  },
  {
   "cell_type": "code",
   "execution_count": 58,
   "id": "bfdac76e",
   "metadata": {},
   "outputs": [
    {
     "data": {
      "text/plain": [
       "<Axes: title={'center': 'Features Importances'}, ylabel='1'>"
      ]
     },
     "execution_count": 58,
     "metadata": {},
     "output_type": "execute_result"
    },
    {
     "data": {
      "image/png": "[encoded data removed]",
      "text/plain": [
       "<Figure size 640x480 with 1 Axes>"
      ]
     },
     "metadata": {},
     "output_type": "display_data"
    }
   ],
   "source": [
    "# Visualize the features by importance\n",
    "importances_df = pd.DataFrame(sorted(zip(rf_model.feature_importances_, X.columns), reverse=True))\n",
    "importances_df.set_index(importances_df[1], inplace=True)\n",
    "importances_df.drop(columns=1, inplace=True)\n",
    "importances_df.rename(columns={0: 'Feature Importances'}, inplace=True)\n",
    "importances_sorted = importances_df.sort_values(by='Feature Importances')\n",
    "importances_sorted.plot(kind='barh', color='lightgreen', title= 'Features Importances', legend=False)"
   ]
  },
  {
   "cell_type": "code",
   "execution_count": null,
   "id": "5b17cbe8",
   "metadata": {},
   "outputs": [],
   "source": []
  }
 ],
 "metadata": {
  "colab": {
   "provenance": []
  },
  "kernelspec": {
   "display_name": "Python 3 (ipykernel)",
   "language": "python",
   "name": "python3"
  },
  "language_info": {
   "codemirror_mode": {
    "name": "ipython",
    "version": 3
   },
   "file_extension": ".py",
   "mimetype": "text/x-python",
   "name": "python",
   "nbconvert_exporter": "python",
   "pygments_lexer": "ipython3",
   "version": "3.11.3"
  }
 },
 "nbformat": 4,
 "nbformat_minor": 5
}
