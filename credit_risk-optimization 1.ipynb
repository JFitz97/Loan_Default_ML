{
 "cells": [
  {
   "cell_type": "code",
   "execution_count": 1,
   "id": "c64e77ea",
   "metadata": {
    "id": "c64e77ea"
   },
   "outputs": [],
   "source": [
    "# import dependencies\n",
    "import pandas as pd\n",
    "from sklearn import tree\n",
    "from sklearn.preprocessing import StandardScaler\n",
    "from sklearn.model_selection import train_test_split\n",
    "from sklearn.metrics import confusion_matrix, accuracy_score, classification_report\n",
    "import numpy as np\n",
    "import matplotlib.pyplot as plot\n",
    "from sklearn.ensemble import RandomForestClassifier"
   ]
  },
  {
   "cell_type": "code",
   "execution_count": 65,
   "id": "2gCVsJoo7mRY",
   "metadata": {
    "colab": {
     "base_uri": "https://localhost:8080/"
    },
    "id": "2gCVsJoo7mRY",
    "outputId": "a0de91ac-4c0b-413c-d57a-4f2236e76a4e"
   },
   "outputs": [],
   "source": [
    "# from google.colab import drive\n",
    "\n",
    "# drive.mount('/content/drive')"
   ]
  },
  {
   "cell_type": "code",
   "execution_count": 2,
   "id": "mwnqDmvQ7mW6",
   "metadata": {
    "colab": {
     "base_uri": "https://localhost:8080/",
     "height": 488
    },
    "id": "mwnqDmvQ7mW6",
    "outputId": "0b031deb-abcc-4f91-cf38-12e4fa125d28"
   },
   "outputs": [
    {
     "data": {
      "text/html": [
       "<div>\n",
       "<style scoped>\n",
       "    .dataframe tbody tr th:only-of-type {\n",
       "        vertical-align: middle;\n",
       "    }\n",
       "\n",
       "    .dataframe tbody tr th {\n",
       "        vertical-align: top;\n",
       "    }\n",
       "\n",
       "    .dataframe thead th {\n",
       "        text-align: right;\n",
       "    }\n",
       "</style>\n",
       "<table border=\"1\" class=\"dataframe\">\n",
       "  <thead>\n",
       "    <tr style=\"text-align: right;\">\n",
       "      <th></th>\n",
       "      <th>person_age</th>\n",
       "      <th>person_income</th>\n",
       "      <th>person_home_ownership</th>\n",
       "      <th>person_emp_length</th>\n",
       "      <th>loan_intent</th>\n",
       "      <th>loan_amnt</th>\n",
       "      <th>loan_int_rate</th>\n",
       "      <th>loan_status</th>\n",
       "      <th>loan_percent_income</th>\n",
       "      <th>cb_person_default_on_file</th>\n",
       "      <th>cb_person_cred_hist_length</th>\n",
       "    </tr>\n",
       "  </thead>\n",
       "  <tbody>\n",
       "    <tr>\n",
       "      <th>0</th>\n",
       "      <td>22</td>\n",
       "      <td>59000</td>\n",
       "      <td>RENT</td>\n",
       "      <td>123.0</td>\n",
       "      <td>PERSONAL</td>\n",
       "      <td>35000</td>\n",
       "      <td>16.02</td>\n",
       "      <td>1</td>\n",
       "      <td>0.59</td>\n",
       "      <td>Y</td>\n",
       "      <td>3</td>\n",
       "    </tr>\n",
       "    <tr>\n",
       "      <th>1</th>\n",
       "      <td>21</td>\n",
       "      <td>9600</td>\n",
       "      <td>OWN</td>\n",
       "      <td>5.0</td>\n",
       "      <td>EDUCATION</td>\n",
       "      <td>1000</td>\n",
       "      <td>11.14</td>\n",
       "      <td>0</td>\n",
       "      <td>0.10</td>\n",
       "      <td>N</td>\n",
       "      <td>2</td>\n",
       "    </tr>\n",
       "    <tr>\n",
       "      <th>2</th>\n",
       "      <td>25</td>\n",
       "      <td>9600</td>\n",
       "      <td>MORTGAGE</td>\n",
       "      <td>1.0</td>\n",
       "      <td>MEDICAL</td>\n",
       "      <td>5500</td>\n",
       "      <td>12.87</td>\n",
       "      <td>1</td>\n",
       "      <td>0.57</td>\n",
       "      <td>N</td>\n",
       "      <td>3</td>\n",
       "    </tr>\n",
       "    <tr>\n",
       "      <th>3</th>\n",
       "      <td>23</td>\n",
       "      <td>65500</td>\n",
       "      <td>RENT</td>\n",
       "      <td>4.0</td>\n",
       "      <td>MEDICAL</td>\n",
       "      <td>35000</td>\n",
       "      <td>15.23</td>\n",
       "      <td>1</td>\n",
       "      <td>0.53</td>\n",
       "      <td>N</td>\n",
       "      <td>2</td>\n",
       "    </tr>\n",
       "    <tr>\n",
       "      <th>4</th>\n",
       "      <td>24</td>\n",
       "      <td>54400</td>\n",
       "      <td>RENT</td>\n",
       "      <td>8.0</td>\n",
       "      <td>MEDICAL</td>\n",
       "      <td>35000</td>\n",
       "      <td>14.27</td>\n",
       "      <td>1</td>\n",
       "      <td>0.55</td>\n",
       "      <td>Y</td>\n",
       "      <td>4</td>\n",
       "    </tr>\n",
       "    <tr>\n",
       "      <th>...</th>\n",
       "      <td>...</td>\n",
       "      <td>...</td>\n",
       "      <td>...</td>\n",
       "      <td>...</td>\n",
       "      <td>...</td>\n",
       "      <td>...</td>\n",
       "      <td>...</td>\n",
       "      <td>...</td>\n",
       "      <td>...</td>\n",
       "      <td>...</td>\n",
       "      <td>...</td>\n",
       "    </tr>\n",
       "    <tr>\n",
       "      <th>32576</th>\n",
       "      <td>57</td>\n",
       "      <td>53000</td>\n",
       "      <td>MORTGAGE</td>\n",
       "      <td>1.0</td>\n",
       "      <td>PERSONAL</td>\n",
       "      <td>5800</td>\n",
       "      <td>13.16</td>\n",
       "      <td>0</td>\n",
       "      <td>0.11</td>\n",
       "      <td>N</td>\n",
       "      <td>30</td>\n",
       "    </tr>\n",
       "    <tr>\n",
       "      <th>32577</th>\n",
       "      <td>54</td>\n",
       "      <td>120000</td>\n",
       "      <td>MORTGAGE</td>\n",
       "      <td>4.0</td>\n",
       "      <td>PERSONAL</td>\n",
       "      <td>17625</td>\n",
       "      <td>7.49</td>\n",
       "      <td>0</td>\n",
       "      <td>0.15</td>\n",
       "      <td>N</td>\n",
       "      <td>19</td>\n",
       "    </tr>\n",
       "    <tr>\n",
       "      <th>32578</th>\n",
       "      <td>65</td>\n",
       "      <td>76000</td>\n",
       "      <td>RENT</td>\n",
       "      <td>3.0</td>\n",
       "      <td>HOMEIMPROVEMENT</td>\n",
       "      <td>35000</td>\n",
       "      <td>10.99</td>\n",
       "      <td>1</td>\n",
       "      <td>0.46</td>\n",
       "      <td>N</td>\n",
       "      <td>28</td>\n",
       "    </tr>\n",
       "    <tr>\n",
       "      <th>32579</th>\n",
       "      <td>56</td>\n",
       "      <td>150000</td>\n",
       "      <td>MORTGAGE</td>\n",
       "      <td>5.0</td>\n",
       "      <td>PERSONAL</td>\n",
       "      <td>15000</td>\n",
       "      <td>11.48</td>\n",
       "      <td>0</td>\n",
       "      <td>0.10</td>\n",
       "      <td>N</td>\n",
       "      <td>26</td>\n",
       "    </tr>\n",
       "    <tr>\n",
       "      <th>32580</th>\n",
       "      <td>66</td>\n",
       "      <td>42000</td>\n",
       "      <td>RENT</td>\n",
       "      <td>2.0</td>\n",
       "      <td>MEDICAL</td>\n",
       "      <td>6475</td>\n",
       "      <td>9.99</td>\n",
       "      <td>0</td>\n",
       "      <td>0.15</td>\n",
       "      <td>N</td>\n",
       "      <td>30</td>\n",
       "    </tr>\n",
       "  </tbody>\n",
       "</table>\n",
       "<p>32581 rows × 11 columns</p>\n",
       "</div>"
      ],
      "text/plain": [
       "       person_age  person_income person_home_ownership  person_emp_length   \n",
       "0              22          59000                  RENT              123.0  \\\n",
       "1              21           9600                   OWN                5.0   \n",
       "2              25           9600              MORTGAGE                1.0   \n",
       "3              23          65500                  RENT                4.0   \n",
       "4              24          54400                  RENT                8.0   \n",
       "...           ...            ...                   ...                ...   \n",
       "32576          57          53000              MORTGAGE                1.0   \n",
       "32577          54         120000              MORTGAGE                4.0   \n",
       "32578          65          76000                  RENT                3.0   \n",
       "32579          56         150000              MORTGAGE                5.0   \n",
       "32580          66          42000                  RENT                2.0   \n",
       "\n",
       "           loan_intent  loan_amnt  loan_int_rate  loan_status   \n",
       "0             PERSONAL      35000          16.02            1  \\\n",
       "1            EDUCATION       1000          11.14            0   \n",
       "2              MEDICAL       5500          12.87            1   \n",
       "3              MEDICAL      35000          15.23            1   \n",
       "4              MEDICAL      35000          14.27            1   \n",
       "...                ...        ...            ...          ...   \n",
       "32576         PERSONAL       5800          13.16            0   \n",
       "32577         PERSONAL      17625           7.49            0   \n",
       "32578  HOMEIMPROVEMENT      35000          10.99            1   \n",
       "32579         PERSONAL      15000          11.48            0   \n",
       "32580          MEDICAL       6475           9.99            0   \n",
       "\n",
       "       loan_percent_income cb_person_default_on_file   \n",
       "0                     0.59                         Y  \\\n",
       "1                     0.10                         N   \n",
       "2                     0.57                         N   \n",
       "3                     0.53                         N   \n",
       "4                     0.55                         Y   \n",
       "...                    ...                       ...   \n",
       "32576                 0.11                         N   \n",
       "32577                 0.15                         N   \n",
       "32578                 0.46                         N   \n",
       "32579                 0.10                         N   \n",
       "32580                 0.15                         N   \n",
       "\n",
       "       cb_person_cred_hist_length  \n",
       "0                               3  \n",
       "1                               2  \n",
       "2                               3  \n",
       "3                               2  \n",
       "4                               4  \n",
       "...                           ...  \n",
       "32576                          30  \n",
       "32577                          19  \n",
       "32578                          28  \n",
       "32579                          26  \n",
       "32580                          30  \n",
       "\n",
       "[32581 rows x 11 columns]"
      ]
     },
     "execution_count": 2,
     "metadata": {},
     "output_type": "execute_result"
    }
   ],
   "source": [
    "# Read in CSV\n",
    "# cred_data = pd.read_csv('drive/MyDrive/Loan_Eligibility_ML/Resources/credit_risk_dataset.csv')\n",
    "cred_data = pd.read_csv('./Resources/credit_risk_dataset.csv')\n",
    "\n",
    "# Create dataframe\n",
    "cred_df = pd.DataFrame(cred_data)\n",
    "cred_df"
   ]
  },
  {
   "cell_type": "code",
   "execution_count": 3,
   "id": "b2aqYPtt7mZf",
   "metadata": {
    "colab": {
     "base_uri": "https://localhost:8080/"
    },
    "id": "b2aqYPtt7mZf",
    "outputId": "c94eaa1d-4de1-45ba-b08e-f9970cc96459"
   },
   "outputs": [
    {
     "data": {
      "text/plain": [
       "32581"
      ]
     },
     "execution_count": 3,
     "metadata": {},
     "output_type": "execute_result"
    }
   ],
   "source": [
    "# check initial length before cleaning\n",
    "len(cred_df.index)"
   ]
  },
  {
   "cell_type": "code",
   "execution_count": 4,
   "id": "4XR6AF8T7men",
   "metadata": {
    "id": "4XR6AF8T7men"
   },
   "outputs": [],
   "source": [
    "# Drop null values\n",
    "clean_cred_df = cred_df.dropna(axis=0, how='any')"
   ]
  },
  {
   "cell_type": "code",
   "execution_count": 5,
   "id": "Pesl_sb97mg8",
   "metadata": {
    "colab": {
     "base_uri": "https://localhost:8080/"
    },
    "id": "Pesl_sb97mg8",
    "outputId": "3ef022a2-10a5-4ec7-ff13-4ea6347cdbd3"
   },
   "outputs": [
    {
     "data": {
      "text/plain": [
       "28638"
      ]
     },
     "execution_count": 5,
     "metadata": {},
     "output_type": "execute_result"
    }
   ],
   "source": [
    "len(clean_cred_df.index)"
   ]
  },
  {
   "cell_type": "code",
   "execution_count": 6,
   "id": "7oWMjBi47mjS",
   "metadata": {
    "colab": {
     "base_uri": "https://localhost:8080/"
    },
    "id": "7oWMjBi47mjS",
    "outputId": "f4721eaf-ba1f-4731-9fcc-984815554d98"
   },
   "outputs": [
    {
     "name": "stderr",
     "output_type": "stream",
     "text": [
      "C:\\Users\\LAHUNT\\AppData\\Local\\Temp\\ipykernel_18488\\4041936413.py:2: SettingWithCopyWarning: \n",
      "A value is trying to be set on a copy of a slice from a DataFrame\n",
      "\n",
      "See the caveats in the documentation: https://pandas.pydata.org/pandas-docs/stable/user_guide/indexing.html#returning-a-view-versus-a-copy\n",
      "  clean_cred_df.drop(clean_cred_df[clean_cred_df['person_age']>= 100].index, inplace=True)\n"
     ]
    },
    {
     "data": {
      "text/plain": [
       "array([22, 21, 25, 23, 24, 26, 20, 32, 34, 29, 33, 28, 35, 31, 27, 30, 36,\n",
       "       50, 37, 39, 40, 43, 41, 46, 38, 47, 42, 44, 48, 45, 49, 58, 65, 51,\n",
       "       53, 66, 57, 59, 62, 54, 60, 55, 52, 61, 64, 70, 78, 69, 56, 73, 63,\n",
       "       80, 84, 76, 67], dtype=int64)"
      ]
     },
     "execution_count": 6,
     "metadata": {},
     "output_type": "execute_result"
    }
   ],
   "source": [
    "# check age and drop any odd values\n",
    "clean_cred_df.drop(clean_cred_df[clean_cred_df['person_age']>= 100].index, inplace=True)\n",
    "clean_cred_df['person_age'].unique()"
   ]
  },
  {
   "cell_type": "code",
   "execution_count": 7,
   "id": "a389dd95",
   "metadata": {},
   "outputs": [],
   "source": [
    "# # check agefor any outliers\n",
    "# clean_cred_df['person_age']\n",
    "\n",
    "# age_outlier = clean_cred_df['person_age']\n",
    "# quartiles = np.quantile(age_outlier,[.25,.75])\n",
    "# iqr = quartiles[1]-quartiles[0]\n",
    "# lower_bound = quartiles[0]-(1.5*iqr)\n",
    "# upper_bound = quartiles[1]+(1.5*iqr)\n",
    "# print (f\"quartiles = {quartiles} & IQR = {iqr}\")\n",
    "# print (f\"lower bound = {lower_bound} & upper bound = {upper_bound}\")\n",
    "# potential_outliers_age_outlier = [value for value in age_outlier if value < lower_bound or value > upper_bound]\n",
    "# len(potential_outliers_age_outlier)"
   ]
  },
  {
   "cell_type": "code",
   "execution_count": 8,
   "id": "1cb9fb2e",
   "metadata": {},
   "outputs": [],
   "source": [
    "# clean_cred_df = clean_cred_df.drop(clean_cred_df[clean_cred_df['person_age'] > 40.5].index)"
   ]
  },
  {
   "cell_type": "code",
   "execution_count": 9,
   "id": "6kfjmkiy7mli",
   "metadata": {
    "colab": {
     "base_uri": "https://localhost:8080/"
    },
    "id": "6kfjmkiy7mli",
    "outputId": "61424d6d-86e3-4ecb-e6ce-22988c15c4a6"
   },
   "outputs": [
    {
     "name": "stderr",
     "output_type": "stream",
     "text": [
      "C:\\Users\\LAHUNT\\AppData\\Local\\Temp\\ipykernel_18488\\82347455.py:2: SettingWithCopyWarning: \n",
      "A value is trying to be set on a copy of a slice from a DataFrame\n",
      "\n",
      "See the caveats in the documentation: https://pandas.pydata.org/pandas-docs/stable/user_guide/indexing.html#returning-a-view-versus-a-copy\n",
      "  clean_cred_df.cb_person_default_on_file[clean_cred_df.cb_person_default_on_file == 'Y'] = 0\n",
      "C:\\Users\\LAHUNT\\AppData\\Local\\Temp\\ipykernel_18488\\82347455.py:3: SettingWithCopyWarning: \n",
      "A value is trying to be set on a copy of a slice from a DataFrame\n",
      "\n",
      "See the caveats in the documentation: https://pandas.pydata.org/pandas-docs/stable/user_guide/indexing.html#returning-a-view-versus-a-copy\n",
      "  clean_cred_df.cb_person_default_on_file[clean_cred_df.cb_person_default_on_file == 'N'] = 1\n"
     ]
    }
   ],
   "source": [
    "# Convert cb_person_default_on_file\t to 0 = y and 1 = n\n",
    "clean_cred_df.cb_person_default_on_file[clean_cred_df.cb_person_default_on_file == 'Y'] = 0\n",
    "clean_cred_df.cb_person_default_on_file[clean_cred_df.cb_person_default_on_file == 'N'] = 1"
   ]
  },
  {
   "cell_type": "code",
   "execution_count": 10,
   "id": "WGxwLpcf7moF",
   "metadata": {
    "id": "WGxwLpcf7moF"
   },
   "outputs": [],
   "source": [
    "# Use get_dummies to convert columns to int\n",
    "clean_cred_df = pd.get_dummies(clean_cred_df,\n",
    "                            columns=['person_home_ownership', 'loan_intent'], dtype=int)"
   ]
  },
  {
   "cell_type": "code",
   "execution_count": 11,
   "id": "g6uDxUDu7mqa",
   "metadata": {
    "id": "g6uDxUDu7mqa"
   },
   "outputs": [],
   "source": [
    "clean_cred_df = clean_cred_df.drop(columns=['loan_intent_VENTURE', 'person_home_ownership_OTHER'])"
   ]
  },
  {
   "cell_type": "code",
   "execution_count": 12,
   "id": "oD1c9hEC7msp",
   "metadata": {
    "colab": {
     "base_uri": "https://localhost:8080/",
     "height": 488
    },
    "id": "oD1c9hEC7msp",
    "outputId": "e14b5cfa-d62b-417b-8367-5f03871c5a9d"
   },
   "outputs": [
    {
     "data": {
      "text/html": [
       "<div>\n",
       "<style scoped>\n",
       "    .dataframe tbody tr th:only-of-type {\n",
       "        vertical-align: middle;\n",
       "    }\n",
       "\n",
       "    .dataframe tbody tr th {\n",
       "        vertical-align: top;\n",
       "    }\n",
       "\n",
       "    .dataframe thead th {\n",
       "        text-align: right;\n",
       "    }\n",
       "</style>\n",
       "<table border=\"1\" class=\"dataframe\">\n",
       "  <thead>\n",
       "    <tr style=\"text-align: right;\">\n",
       "      <th></th>\n",
       "      <th>person_age</th>\n",
       "      <th>person_income</th>\n",
       "      <th>person_emp_length</th>\n",
       "      <th>loan_amnt</th>\n",
       "      <th>loan_int_rate</th>\n",
       "      <th>loan_status</th>\n",
       "      <th>loan_percent_income</th>\n",
       "      <th>cb_person_default_on_file</th>\n",
       "      <th>cb_person_cred_hist_length</th>\n",
       "      <th>person_home_ownership_MORTGAGE</th>\n",
       "      <th>person_home_ownership_OWN</th>\n",
       "      <th>person_home_ownership_RENT</th>\n",
       "      <th>loan_intent_DEBTCONSOLIDATION</th>\n",
       "      <th>loan_intent_EDUCATION</th>\n",
       "      <th>loan_intent_HOMEIMPROVEMENT</th>\n",
       "      <th>loan_intent_MEDICAL</th>\n",
       "      <th>loan_intent_PERSONAL</th>\n",
       "    </tr>\n",
       "  </thead>\n",
       "  <tbody>\n",
       "    <tr>\n",
       "      <th>0</th>\n",
       "      <td>22</td>\n",
       "      <td>59000</td>\n",
       "      <td>123.0</td>\n",
       "      <td>35000</td>\n",
       "      <td>16.02</td>\n",
       "      <td>1</td>\n",
       "      <td>0.59</td>\n",
       "      <td>0</td>\n",
       "      <td>3</td>\n",
       "      <td>0</td>\n",
       "      <td>0</td>\n",
       "      <td>1</td>\n",
       "      <td>0</td>\n",
       "      <td>0</td>\n",
       "      <td>0</td>\n",
       "      <td>0</td>\n",
       "      <td>1</td>\n",
       "    </tr>\n",
       "    <tr>\n",
       "      <th>1</th>\n",
       "      <td>21</td>\n",
       "      <td>9600</td>\n",
       "      <td>5.0</td>\n",
       "      <td>1000</td>\n",
       "      <td>11.14</td>\n",
       "      <td>0</td>\n",
       "      <td>0.10</td>\n",
       "      <td>1</td>\n",
       "      <td>2</td>\n",
       "      <td>0</td>\n",
       "      <td>1</td>\n",
       "      <td>0</td>\n",
       "      <td>0</td>\n",
       "      <td>1</td>\n",
       "      <td>0</td>\n",
       "      <td>0</td>\n",
       "      <td>0</td>\n",
       "    </tr>\n",
       "    <tr>\n",
       "      <th>2</th>\n",
       "      <td>25</td>\n",
       "      <td>9600</td>\n",
       "      <td>1.0</td>\n",
       "      <td>5500</td>\n",
       "      <td>12.87</td>\n",
       "      <td>1</td>\n",
       "      <td>0.57</td>\n",
       "      <td>1</td>\n",
       "      <td>3</td>\n",
       "      <td>1</td>\n",
       "      <td>0</td>\n",
       "      <td>0</td>\n",
       "      <td>0</td>\n",
       "      <td>0</td>\n",
       "      <td>0</td>\n",
       "      <td>1</td>\n",
       "      <td>0</td>\n",
       "    </tr>\n",
       "    <tr>\n",
       "      <th>3</th>\n",
       "      <td>23</td>\n",
       "      <td>65500</td>\n",
       "      <td>4.0</td>\n",
       "      <td>35000</td>\n",
       "      <td>15.23</td>\n",
       "      <td>1</td>\n",
       "      <td>0.53</td>\n",
       "      <td>1</td>\n",
       "      <td>2</td>\n",
       "      <td>0</td>\n",
       "      <td>0</td>\n",
       "      <td>1</td>\n",
       "      <td>0</td>\n",
       "      <td>0</td>\n",
       "      <td>0</td>\n",
       "      <td>1</td>\n",
       "      <td>0</td>\n",
       "    </tr>\n",
       "    <tr>\n",
       "      <th>4</th>\n",
       "      <td>24</td>\n",
       "      <td>54400</td>\n",
       "      <td>8.0</td>\n",
       "      <td>35000</td>\n",
       "      <td>14.27</td>\n",
       "      <td>1</td>\n",
       "      <td>0.55</td>\n",
       "      <td>0</td>\n",
       "      <td>4</td>\n",
       "      <td>0</td>\n",
       "      <td>0</td>\n",
       "      <td>1</td>\n",
       "      <td>0</td>\n",
       "      <td>0</td>\n",
       "      <td>0</td>\n",
       "      <td>1</td>\n",
       "      <td>0</td>\n",
       "    </tr>\n",
       "    <tr>\n",
       "      <th>...</th>\n",
       "      <td>...</td>\n",
       "      <td>...</td>\n",
       "      <td>...</td>\n",
       "      <td>...</td>\n",
       "      <td>...</td>\n",
       "      <td>...</td>\n",
       "      <td>...</td>\n",
       "      <td>...</td>\n",
       "      <td>...</td>\n",
       "      <td>...</td>\n",
       "      <td>...</td>\n",
       "      <td>...</td>\n",
       "      <td>...</td>\n",
       "      <td>...</td>\n",
       "      <td>...</td>\n",
       "      <td>...</td>\n",
       "      <td>...</td>\n",
       "    </tr>\n",
       "    <tr>\n",
       "      <th>32576</th>\n",
       "      <td>57</td>\n",
       "      <td>53000</td>\n",
       "      <td>1.0</td>\n",
       "      <td>5800</td>\n",
       "      <td>13.16</td>\n",
       "      <td>0</td>\n",
       "      <td>0.11</td>\n",
       "      <td>1</td>\n",
       "      <td>30</td>\n",
       "      <td>1</td>\n",
       "      <td>0</td>\n",
       "      <td>0</td>\n",
       "      <td>0</td>\n",
       "      <td>0</td>\n",
       "      <td>0</td>\n",
       "      <td>0</td>\n",
       "      <td>1</td>\n",
       "    </tr>\n",
       "    <tr>\n",
       "      <th>32577</th>\n",
       "      <td>54</td>\n",
       "      <td>120000</td>\n",
       "      <td>4.0</td>\n",
       "      <td>17625</td>\n",
       "      <td>7.49</td>\n",
       "      <td>0</td>\n",
       "      <td>0.15</td>\n",
       "      <td>1</td>\n",
       "      <td>19</td>\n",
       "      <td>1</td>\n",
       "      <td>0</td>\n",
       "      <td>0</td>\n",
       "      <td>0</td>\n",
       "      <td>0</td>\n",
       "      <td>0</td>\n",
       "      <td>0</td>\n",
       "      <td>1</td>\n",
       "    </tr>\n",
       "    <tr>\n",
       "      <th>32578</th>\n",
       "      <td>65</td>\n",
       "      <td>76000</td>\n",
       "      <td>3.0</td>\n",
       "      <td>35000</td>\n",
       "      <td>10.99</td>\n",
       "      <td>1</td>\n",
       "      <td>0.46</td>\n",
       "      <td>1</td>\n",
       "      <td>28</td>\n",
       "      <td>0</td>\n",
       "      <td>0</td>\n",
       "      <td>1</td>\n",
       "      <td>0</td>\n",
       "      <td>0</td>\n",
       "      <td>1</td>\n",
       "      <td>0</td>\n",
       "      <td>0</td>\n",
       "    </tr>\n",
       "    <tr>\n",
       "      <th>32579</th>\n",
       "      <td>56</td>\n",
       "      <td>150000</td>\n",
       "      <td>5.0</td>\n",
       "      <td>15000</td>\n",
       "      <td>11.48</td>\n",
       "      <td>0</td>\n",
       "      <td>0.10</td>\n",
       "      <td>1</td>\n",
       "      <td>26</td>\n",
       "      <td>1</td>\n",
       "      <td>0</td>\n",
       "      <td>0</td>\n",
       "      <td>0</td>\n",
       "      <td>0</td>\n",
       "      <td>0</td>\n",
       "      <td>0</td>\n",
       "      <td>1</td>\n",
       "    </tr>\n",
       "    <tr>\n",
       "      <th>32580</th>\n",
       "      <td>66</td>\n",
       "      <td>42000</td>\n",
       "      <td>2.0</td>\n",
       "      <td>6475</td>\n",
       "      <td>9.99</td>\n",
       "      <td>0</td>\n",
       "      <td>0.15</td>\n",
       "      <td>1</td>\n",
       "      <td>30</td>\n",
       "      <td>0</td>\n",
       "      <td>0</td>\n",
       "      <td>1</td>\n",
       "      <td>0</td>\n",
       "      <td>0</td>\n",
       "      <td>0</td>\n",
       "      <td>1</td>\n",
       "      <td>0</td>\n",
       "    </tr>\n",
       "  </tbody>\n",
       "</table>\n",
       "<p>28634 rows × 17 columns</p>\n",
       "</div>"
      ],
      "text/plain": [
       "       person_age  person_income  person_emp_length  loan_amnt  loan_int_rate   \n",
       "0              22          59000              123.0      35000          16.02  \\\n",
       "1              21           9600                5.0       1000          11.14   \n",
       "2              25           9600                1.0       5500          12.87   \n",
       "3              23          65500                4.0      35000          15.23   \n",
       "4              24          54400                8.0      35000          14.27   \n",
       "...           ...            ...                ...        ...            ...   \n",
       "32576          57          53000                1.0       5800          13.16   \n",
       "32577          54         120000                4.0      17625           7.49   \n",
       "32578          65          76000                3.0      35000          10.99   \n",
       "32579          56         150000                5.0      15000          11.48   \n",
       "32580          66          42000                2.0       6475           9.99   \n",
       "\n",
       "       loan_status  loan_percent_income cb_person_default_on_file   \n",
       "0                1                 0.59                         0  \\\n",
       "1                0                 0.10                         1   \n",
       "2                1                 0.57                         1   \n",
       "3                1                 0.53                         1   \n",
       "4                1                 0.55                         0   \n",
       "...            ...                  ...                       ...   \n",
       "32576            0                 0.11                         1   \n",
       "32577            0                 0.15                         1   \n",
       "32578            1                 0.46                         1   \n",
       "32579            0                 0.10                         1   \n",
       "32580            0                 0.15                         1   \n",
       "\n",
       "       cb_person_cred_hist_length  person_home_ownership_MORTGAGE   \n",
       "0                               3                               0  \\\n",
       "1                               2                               0   \n",
       "2                               3                               1   \n",
       "3                               2                               0   \n",
       "4                               4                               0   \n",
       "...                           ...                             ...   \n",
       "32576                          30                               1   \n",
       "32577                          19                               1   \n",
       "32578                          28                               0   \n",
       "32579                          26                               1   \n",
       "32580                          30                               0   \n",
       "\n",
       "       person_home_ownership_OWN  person_home_ownership_RENT   \n",
       "0                              0                           1  \\\n",
       "1                              1                           0   \n",
       "2                              0                           0   \n",
       "3                              0                           1   \n",
       "4                              0                           1   \n",
       "...                          ...                         ...   \n",
       "32576                          0                           0   \n",
       "32577                          0                           0   \n",
       "32578                          0                           1   \n",
       "32579                          0                           0   \n",
       "32580                          0                           1   \n",
       "\n",
       "       loan_intent_DEBTCONSOLIDATION  loan_intent_EDUCATION   \n",
       "0                                  0                      0  \\\n",
       "1                                  0                      1   \n",
       "2                                  0                      0   \n",
       "3                                  0                      0   \n",
       "4                                  0                      0   \n",
       "...                              ...                    ...   \n",
       "32576                              0                      0   \n",
       "32577                              0                      0   \n",
       "32578                              0                      0   \n",
       "32579                              0                      0   \n",
       "32580                              0                      0   \n",
       "\n",
       "       loan_intent_HOMEIMPROVEMENT  loan_intent_MEDICAL  loan_intent_PERSONAL  \n",
       "0                                0                    0                     1  \n",
       "1                                0                    0                     0  \n",
       "2                                0                    1                     0  \n",
       "3                                0                    1                     0  \n",
       "4                                0                    1                     0  \n",
       "...                            ...                  ...                   ...  \n",
       "32576                            0                    0                     1  \n",
       "32577                            0                    0                     1  \n",
       "32578                            1                    0                     0  \n",
       "32579                            0                    0                     1  \n",
       "32580                            0                    1                     0  \n",
       "\n",
       "[28634 rows x 17 columns]"
      ]
     },
     "execution_count": 12,
     "metadata": {},
     "output_type": "execute_result"
    }
   ],
   "source": [
    "clean_cred_df"
   ]
  },
  {
   "cell_type": "code",
   "execution_count": 13,
   "id": "e37c8011",
   "metadata": {},
   "outputs": [
    {
     "data": {
      "text/html": [
       "<div>\n",
       "<style scoped>\n",
       "    .dataframe tbody tr th:only-of-type {\n",
       "        vertical-align: middle;\n",
       "    }\n",
       "\n",
       "    .dataframe tbody tr th {\n",
       "        vertical-align: top;\n",
       "    }\n",
       "\n",
       "    .dataframe thead th {\n",
       "        text-align: right;\n",
       "    }\n",
       "</style>\n",
       "<table border=\"1\" class=\"dataframe\">\n",
       "  <thead>\n",
       "    <tr style=\"text-align: right;\">\n",
       "      <th></th>\n",
       "      <th>person_age</th>\n",
       "      <th>person_income</th>\n",
       "      <th>person_emp_length</th>\n",
       "      <th>loan_amnt</th>\n",
       "      <th>loan_int_rate</th>\n",
       "      <th>loan_status</th>\n",
       "      <th>loan_percent_income</th>\n",
       "      <th>cb_person_cred_hist_length</th>\n",
       "      <th>person_home_ownership_MORTGAGE</th>\n",
       "      <th>person_home_ownership_OWN</th>\n",
       "      <th>person_home_ownership_RENT</th>\n",
       "      <th>loan_intent_DEBTCONSOLIDATION</th>\n",
       "      <th>loan_intent_EDUCATION</th>\n",
       "      <th>loan_intent_HOMEIMPROVEMENT</th>\n",
       "      <th>loan_intent_MEDICAL</th>\n",
       "      <th>loan_intent_PERSONAL</th>\n",
       "    </tr>\n",
       "  </thead>\n",
       "  <tbody>\n",
       "    <tr>\n",
       "      <th>count</th>\n",
       "      <td>28634.000000</td>\n",
       "      <td>2.863400e+04</td>\n",
       "      <td>28634.000000</td>\n",
       "      <td>28634.000000</td>\n",
       "      <td>28634.000000</td>\n",
       "      <td>28634.000000</td>\n",
       "      <td>28634.000000</td>\n",
       "      <td>28634.000000</td>\n",
       "      <td>28634.000000</td>\n",
       "      <td>28634.000000</td>\n",
       "      <td>28634.000000</td>\n",
       "      <td>28634.000000</td>\n",
       "      <td>28634.000000</td>\n",
       "      <td>28634.000000</td>\n",
       "      <td>28634.000000</td>\n",
       "      <td>28634.000000</td>\n",
       "    </tr>\n",
       "    <tr>\n",
       "      <th>mean</th>\n",
       "      <td>27.711706</td>\n",
       "      <td>6.643063e+04</td>\n",
       "      <td>4.788573</td>\n",
       "      <td>9656.577845</td>\n",
       "      <td>11.039718</td>\n",
       "      <td>0.216631</td>\n",
       "      <td>0.169501</td>\n",
       "      <td>5.793392</td>\n",
       "      <td>0.412063</td>\n",
       "      <td>0.076552</td>\n",
       "      <td>0.508102</td>\n",
       "      <td>0.159426</td>\n",
       "      <td>0.199134</td>\n",
       "      <td>0.111685</td>\n",
       "      <td>0.184850</td>\n",
       "      <td>0.170287</td>\n",
       "    </tr>\n",
       "    <tr>\n",
       "      <th>std</th>\n",
       "      <td>6.171993</td>\n",
       "      <td>5.155102e+04</td>\n",
       "      <td>4.154660</td>\n",
       "      <td>6329.645284</td>\n",
       "      <td>3.229540</td>\n",
       "      <td>0.411956</td>\n",
       "      <td>0.106387</td>\n",
       "      <td>4.037040</td>\n",
       "      <td>0.492215</td>\n",
       "      <td>0.265884</td>\n",
       "      <td>0.499943</td>\n",
       "      <td>0.366079</td>\n",
       "      <td>0.399356</td>\n",
       "      <td>0.314985</td>\n",
       "      <td>0.388183</td>\n",
       "      <td>0.375891</td>\n",
       "    </tr>\n",
       "    <tr>\n",
       "      <th>min</th>\n",
       "      <td>20.000000</td>\n",
       "      <td>4.000000e+03</td>\n",
       "      <td>0.000000</td>\n",
       "      <td>500.000000</td>\n",
       "      <td>5.420000</td>\n",
       "      <td>0.000000</td>\n",
       "      <td>0.000000</td>\n",
       "      <td>2.000000</td>\n",
       "      <td>0.000000</td>\n",
       "      <td>0.000000</td>\n",
       "      <td>0.000000</td>\n",
       "      <td>0.000000</td>\n",
       "      <td>0.000000</td>\n",
       "      <td>0.000000</td>\n",
       "      <td>0.000000</td>\n",
       "      <td>0.000000</td>\n",
       "    </tr>\n",
       "    <tr>\n",
       "      <th>25%</th>\n",
       "      <td>23.000000</td>\n",
       "      <td>3.946200e+04</td>\n",
       "      <td>2.000000</td>\n",
       "      <td>5000.000000</td>\n",
       "      <td>7.900000</td>\n",
       "      <td>0.000000</td>\n",
       "      <td>0.090000</td>\n",
       "      <td>3.000000</td>\n",
       "      <td>0.000000</td>\n",
       "      <td>0.000000</td>\n",
       "      <td>0.000000</td>\n",
       "      <td>0.000000</td>\n",
       "      <td>0.000000</td>\n",
       "      <td>0.000000</td>\n",
       "      <td>0.000000</td>\n",
       "      <td>0.000000</td>\n",
       "    </tr>\n",
       "    <tr>\n",
       "      <th>50%</th>\n",
       "      <td>26.000000</td>\n",
       "      <td>5.590000e+04</td>\n",
       "      <td>4.000000</td>\n",
       "      <td>8000.000000</td>\n",
       "      <td>10.990000</td>\n",
       "      <td>0.000000</td>\n",
       "      <td>0.150000</td>\n",
       "      <td>4.000000</td>\n",
       "      <td>0.000000</td>\n",
       "      <td>0.000000</td>\n",
       "      <td>1.000000</td>\n",
       "      <td>0.000000</td>\n",
       "      <td>0.000000</td>\n",
       "      <td>0.000000</td>\n",
       "      <td>0.000000</td>\n",
       "      <td>0.000000</td>\n",
       "    </tr>\n",
       "    <tr>\n",
       "      <th>75%</th>\n",
       "      <td>30.000000</td>\n",
       "      <td>8.000000e+04</td>\n",
       "      <td>7.000000</td>\n",
       "      <td>12500.000000</td>\n",
       "      <td>13.480000</td>\n",
       "      <td>0.000000</td>\n",
       "      <td>0.230000</td>\n",
       "      <td>8.000000</td>\n",
       "      <td>1.000000</td>\n",
       "      <td>0.000000</td>\n",
       "      <td>1.000000</td>\n",
       "      <td>0.000000</td>\n",
       "      <td>0.000000</td>\n",
       "      <td>0.000000</td>\n",
       "      <td>0.000000</td>\n",
       "      <td>0.000000</td>\n",
       "    </tr>\n",
       "    <tr>\n",
       "      <th>max</th>\n",
       "      <td>84.000000</td>\n",
       "      <td>2.039784e+06</td>\n",
       "      <td>123.000000</td>\n",
       "      <td>35000.000000</td>\n",
       "      <td>23.220000</td>\n",
       "      <td>1.000000</td>\n",
       "      <td>0.830000</td>\n",
       "      <td>30.000000</td>\n",
       "      <td>1.000000</td>\n",
       "      <td>1.000000</td>\n",
       "      <td>1.000000</td>\n",
       "      <td>1.000000</td>\n",
       "      <td>1.000000</td>\n",
       "      <td>1.000000</td>\n",
       "      <td>1.000000</td>\n",
       "      <td>1.000000</td>\n",
       "    </tr>\n",
       "  </tbody>\n",
       "</table>\n",
       "</div>"
      ],
      "text/plain": [
       "         person_age  person_income  person_emp_length     loan_amnt   \n",
       "count  28634.000000   2.863400e+04       28634.000000  28634.000000  \\\n",
       "mean      27.711706   6.643063e+04           4.788573   9656.577845   \n",
       "std        6.171993   5.155102e+04           4.154660   6329.645284   \n",
       "min       20.000000   4.000000e+03           0.000000    500.000000   \n",
       "25%       23.000000   3.946200e+04           2.000000   5000.000000   \n",
       "50%       26.000000   5.590000e+04           4.000000   8000.000000   \n",
       "75%       30.000000   8.000000e+04           7.000000  12500.000000   \n",
       "max       84.000000   2.039784e+06         123.000000  35000.000000   \n",
       "\n",
       "       loan_int_rate   loan_status  loan_percent_income   \n",
       "count   28634.000000  28634.000000         28634.000000  \\\n",
       "mean       11.039718      0.216631             0.169501   \n",
       "std         3.229540      0.411956             0.106387   \n",
       "min         5.420000      0.000000             0.000000   \n",
       "25%         7.900000      0.000000             0.090000   \n",
       "50%        10.990000      0.000000             0.150000   \n",
       "75%        13.480000      0.000000             0.230000   \n",
       "max        23.220000      1.000000             0.830000   \n",
       "\n",
       "       cb_person_cred_hist_length  person_home_ownership_MORTGAGE   \n",
       "count                28634.000000                    28634.000000  \\\n",
       "mean                     5.793392                        0.412063   \n",
       "std                      4.037040                        0.492215   \n",
       "min                      2.000000                        0.000000   \n",
       "25%                      3.000000                        0.000000   \n",
       "50%                      4.000000                        0.000000   \n",
       "75%                      8.000000                        1.000000   \n",
       "max                     30.000000                        1.000000   \n",
       "\n",
       "       person_home_ownership_OWN  person_home_ownership_RENT   \n",
       "count               28634.000000                28634.000000  \\\n",
       "mean                    0.076552                    0.508102   \n",
       "std                     0.265884                    0.499943   \n",
       "min                     0.000000                    0.000000   \n",
       "25%                     0.000000                    0.000000   \n",
       "50%                     0.000000                    1.000000   \n",
       "75%                     0.000000                    1.000000   \n",
       "max                     1.000000                    1.000000   \n",
       "\n",
       "       loan_intent_DEBTCONSOLIDATION  loan_intent_EDUCATION   \n",
       "count                   28634.000000           28634.000000  \\\n",
       "mean                        0.159426               0.199134   \n",
       "std                         0.366079               0.399356   \n",
       "min                         0.000000               0.000000   \n",
       "25%                         0.000000               0.000000   \n",
       "50%                         0.000000               0.000000   \n",
       "75%                         0.000000               0.000000   \n",
       "max                         1.000000               1.000000   \n",
       "\n",
       "       loan_intent_HOMEIMPROVEMENT  loan_intent_MEDICAL  loan_intent_PERSONAL  \n",
       "count                 28634.000000         28634.000000          28634.000000  \n",
       "mean                      0.111685             0.184850              0.170287  \n",
       "std                       0.314985             0.388183              0.375891  \n",
       "min                       0.000000             0.000000              0.000000  \n",
       "25%                       0.000000             0.000000              0.000000  \n",
       "50%                       0.000000             0.000000              0.000000  \n",
       "75%                       0.000000             0.000000              0.000000  \n",
       "max                       1.000000             1.000000              1.000000  "
      ]
     },
     "execution_count": 13,
     "metadata": {},
     "output_type": "execute_result"
    }
   ],
   "source": [
    "clean_cred_df.describe()"
   ]
  },
  {
   "cell_type": "code",
   "execution_count": 14,
   "id": "481352af",
   "metadata": {},
   "outputs": [
    {
     "data": {
      "image/png": "[encoded data removed]",
      "text/plain": [
       "<Figure size 640x480 with 1 Axes>"
      ]
     },
     "metadata": {},
     "output_type": "display_data"
    }
   ],
   "source": [
    "# Create plot box for numeric columns to look for outliers\n",
    "# emp length\n",
    "b_plot_emp = clean_cred_df.boxplot(column = ['person_emp_length']) \n",
    "b_plot_emp.plot()\n",
    "plot.show()"
   ]
  },
  {
   "cell_type": "code",
   "execution_count": 15,
   "id": "alBdVrGc7mvY",
   "metadata": {
    "colab": {
     "base_uri": "https://localhost:8080/"
    },
    "id": "alBdVrGc7mvY",
    "outputId": "7f0f9cd2-1276-4e64-9af9-23fb8af242a5"
   },
   "outputs": [
    {
     "data": {
      "text/plain": [
       "array([ 5.,  1.,  4.,  8.,  2.,  6.,  7.,  0.,  9.,  3., 10., 11., 18.,\n",
       "       12., 17., 14., 16., 13., 19., 15., 22., 20., 21., 24., 23., 26.,\n",
       "       25., 27., 31., 28., 41., 34., 29., 38., 30.])"
      ]
     },
     "execution_count": 15,
     "metadata": {},
     "output_type": "execute_result"
    }
   ],
   "source": [
    "# check employment length and drop any odd values\n",
    "clean_cred_df.drop(clean_cred_df[clean_cred_df['person_emp_length']>= 60].index, inplace=True)\n",
    "clean_cred_df['person_emp_length'].unique()"
   ]
  },
  {
   "cell_type": "code",
   "execution_count": 16,
   "id": "c19ec91d",
   "metadata": {},
   "outputs": [
    {
     "name": "stdout",
     "output_type": "stream",
     "text": [
      "quartiles = [2. 7.] & IQR = 5.0\n",
      "lower bound = -5.5 & upper bound = 14.5\n"
     ]
    },
    {
     "data": {
      "text/plain": [
       "771"
      ]
     },
     "execution_count": 16,
     "metadata": {},
     "output_type": "execute_result"
    }
   ],
   "source": [
    "# check agefor any employment length\n",
    "# clean_cred_df['person_emp_length']\n",
    "\n",
    "emp_outlier = clean_cred_df['person_emp_length']\n",
    "quartiles = np.quantile(emp_outlier,[.25,.75])\n",
    "iqr = quartiles[1]-quartiles[0]\n",
    "lower_bound = quartiles[0]-(1.5*iqr)\n",
    "upper_bound = quartiles[1]+(1.5*iqr)\n",
    "print (f\"quartiles = {quartiles} & IQR = {iqr}\")\n",
    "print (f\"lower bound = {lower_bound} & upper bound = {upper_bound}\")\n",
    "potential_outliers_emp_outlier = [value for value in emp_outlier if value < lower_bound or value > upper_bound]\n",
    "len(potential_outliers_emp_outlier)"
   ]
  },
  {
   "cell_type": "code",
   "execution_count": 17,
   "id": "546a4899",
   "metadata": {},
   "outputs": [],
   "source": [
    "clean_cred_df = clean_cred_df.drop(clean_cred_df[clean_cred_df['person_emp_length'] > 14.5].index)"
   ]
  },
  {
   "cell_type": "code",
   "execution_count": 18,
   "id": "J1SW-Xk37mx2",
   "metadata": {
    "colab": {
     "base_uri": "https://localhost:8080/"
    },
    "id": "J1SW-Xk37mx2",
    "outputId": "2743fcdd-02ba-4175-cbde-74a7942dc5c5"
   },
   "outputs": [],
   "source": [
    "# # check loan_percent_income and drop any odd values\n",
    "# clean_cred_df.drop(clean_cred_df[clean_cred_df['loan_percent_income']<= .01].index, inplace=True)\n",
    "# clean_cred_df['loan_percent_income'].unique()"
   ]
  },
  {
   "cell_type": "code",
   "execution_count": 19,
   "id": "6b12a87a",
   "metadata": {},
   "outputs": [
    {
     "ename": "SyntaxError",
     "evalue": "invalid syntax (2565441848.py, line 1)",
     "output_type": "error",
     "traceback": [
      "\u001b[1;36m  Cell \u001b[1;32mIn[19], line 1\u001b[1;36m\u001b[0m\n\u001b[1;33m    check loan percent income for any outliers\u001b[0m\n\u001b[1;37m          ^\u001b[0m\n\u001b[1;31mSyntaxError\u001b[0m\u001b[1;31m:\u001b[0m invalid syntax\n"
     ]
    }
   ],
   "source": [
    "check loan percent income for any outliers\n",
    "\n",
    "\n",
    "loanper_outlier = clean_cred_df['loan_percent_income']\n",
    "quartiles = np.quantile(loanper_outlier,[.25,.75])\n",
    "iqr = quartiles[1]-quartiles[0]\n",
    "lower_bound = quartiles[0]-(1.5*iqr)\n",
    "upper_bound = quartiles[1]+(1.5*iqr)\n",
    "print (f\"quartiles = {quartiles} & IQR = {iqr}\")\n",
    "print (f\"lower bound = {lower_bound} & upper bound = {upper_bound}\")\n",
    "potential_outliers_loanper_outlier = [value for value in loanper_outlier if value < lower_bound or value > upper_bound]\n",
    "len(potential_outliers_loanper_outlier)"
   ]
  },
  {
   "cell_type": "code",
   "execution_count": 20,
   "id": "626bb46c",
   "metadata": {},
   "outputs": [],
   "source": [
    "clean_cred_df = clean_cred_df.drop(clean_cred_df[clean_cred_df['loan_percent_income'] > 0.44].index)"
   ]
  },
  {
   "cell_type": "code",
   "execution_count": 21,
   "id": "1kPtoJuH7m0W",
   "metadata": {
    "colab": {
     "base_uri": "https://localhost:8080/"
    },
    "id": "1kPtoJuH7m0W",
    "outputId": "f80b1f18-f4c3-430a-ba36-41fa329d428d"
   },
   "outputs": [
    {
     "name": "stdout",
     "output_type": "stream",
     "text": [
      "quartiles = [ 7.9  13.48] & IQR = 5.58\n",
      "lower bound = -0.47000000000000064 & upper bound = 21.85\n"
     ]
    },
    {
     "data": {
      "text/plain": [
       "[22.11, 22.11, 22.06, 22.11, 22.48, 23.22]"
      ]
     },
     "execution_count": 21,
     "metadata": {},
     "output_type": "execute_result"
    }
   ],
   "source": [
    "# check interest rates for any outliers\n",
    "clean_cred_df['loan_int_rate']\n",
    "\n",
    "int_outlier = clean_cred_df['loan_int_rate']\n",
    "quartiles = np.quantile(int_outlier,[.25,.75])\n",
    "iqr = quartiles[1]-quartiles[0]\n",
    "lower_bound = quartiles[0]-(1.5*iqr)\n",
    "upper_bound = quartiles[1]+(1.5*iqr)\n",
    "print (f\"quartiles = {quartiles} & IQR = {iqr}\")\n",
    "print (f\"lower bound = {lower_bound} & upper bound = {upper_bound}\")\n",
    "potential_outliers_int_outlier = [value for value in int_outlier if value < lower_bound or value > upper_bound]\n",
    "potential_outliers_int_outlier"
   ]
  },
  {
   "cell_type": "code",
   "execution_count": 22,
   "id": "99b060ca",
   "metadata": {},
   "outputs": [],
   "source": [
    "clean_cred_df = clean_cred_df.drop(clean_cred_df[clean_cred_df['loan_int_rate'] > 21.85].index)"
   ]
  },
  {
   "cell_type": "code",
   "execution_count": 23,
   "id": "faYrtHSQ7m28",
   "metadata": {
    "colab": {
     "base_uri": "https://localhost:8080/",
     "height": 270
    },
    "id": "faYrtHSQ7m28",
    "outputId": "50a06616-c71b-40f6-af8a-82d9b36a66a4"
   },
   "outputs": [
    {
     "data": {
      "text/html": [
       "<div>\n",
       "<style scoped>\n",
       "    .dataframe tbody tr th:only-of-type {\n",
       "        vertical-align: middle;\n",
       "    }\n",
       "\n",
       "    .dataframe tbody tr th {\n",
       "        vertical-align: top;\n",
       "    }\n",
       "\n",
       "    .dataframe thead th {\n",
       "        text-align: right;\n",
       "    }\n",
       "</style>\n",
       "<table border=\"1\" class=\"dataframe\">\n",
       "  <thead>\n",
       "    <tr style=\"text-align: right;\">\n",
       "      <th></th>\n",
       "      <th>person_age</th>\n",
       "      <th>person_income</th>\n",
       "      <th>person_emp_length</th>\n",
       "      <th>loan_amnt</th>\n",
       "      <th>loan_int_rate</th>\n",
       "      <th>loan_percent_income</th>\n",
       "      <th>cb_person_default_on_file</th>\n",
       "      <th>cb_person_cred_hist_length</th>\n",
       "      <th>person_home_ownership_MORTGAGE</th>\n",
       "      <th>person_home_ownership_OWN</th>\n",
       "      <th>person_home_ownership_RENT</th>\n",
       "      <th>loan_intent_DEBTCONSOLIDATION</th>\n",
       "      <th>loan_intent_EDUCATION</th>\n",
       "      <th>loan_intent_HOMEIMPROVEMENT</th>\n",
       "      <th>loan_intent_MEDICAL</th>\n",
       "      <th>loan_intent_PERSONAL</th>\n",
       "    </tr>\n",
       "  </thead>\n",
       "  <tbody>\n",
       "    <tr>\n",
       "      <th>1</th>\n",
       "      <td>21</td>\n",
       "      <td>9600</td>\n",
       "      <td>5.0</td>\n",
       "      <td>1000</td>\n",
       "      <td>11.14</td>\n",
       "      <td>0.10</td>\n",
       "      <td>1</td>\n",
       "      <td>2</td>\n",
       "      <td>0</td>\n",
       "      <td>1</td>\n",
       "      <td>0</td>\n",
       "      <td>0</td>\n",
       "      <td>1</td>\n",
       "      <td>0</td>\n",
       "      <td>0</td>\n",
       "      <td>0</td>\n",
       "    </tr>\n",
       "    <tr>\n",
       "      <th>5</th>\n",
       "      <td>21</td>\n",
       "      <td>9900</td>\n",
       "      <td>2.0</td>\n",
       "      <td>2500</td>\n",
       "      <td>7.14</td>\n",
       "      <td>0.25</td>\n",
       "      <td>1</td>\n",
       "      <td>2</td>\n",
       "      <td>0</td>\n",
       "      <td>1</td>\n",
       "      <td>0</td>\n",
       "      <td>0</td>\n",
       "      <td>0</td>\n",
       "      <td>0</td>\n",
       "      <td>0</td>\n",
       "      <td>0</td>\n",
       "    </tr>\n",
       "    <tr>\n",
       "      <th>7</th>\n",
       "      <td>24</td>\n",
       "      <td>78956</td>\n",
       "      <td>5.0</td>\n",
       "      <td>35000</td>\n",
       "      <td>11.11</td>\n",
       "      <td>0.44</td>\n",
       "      <td>1</td>\n",
       "      <td>4</td>\n",
       "      <td>0</td>\n",
       "      <td>0</td>\n",
       "      <td>1</td>\n",
       "      <td>0</td>\n",
       "      <td>0</td>\n",
       "      <td>0</td>\n",
       "      <td>1</td>\n",
       "      <td>0</td>\n",
       "    </tr>\n",
       "    <tr>\n",
       "      <th>8</th>\n",
       "      <td>24</td>\n",
       "      <td>83000</td>\n",
       "      <td>8.0</td>\n",
       "      <td>35000</td>\n",
       "      <td>8.90</td>\n",
       "      <td>0.42</td>\n",
       "      <td>1</td>\n",
       "      <td>2</td>\n",
       "      <td>0</td>\n",
       "      <td>0</td>\n",
       "      <td>1</td>\n",
       "      <td>0</td>\n",
       "      <td>0</td>\n",
       "      <td>0</td>\n",
       "      <td>0</td>\n",
       "      <td>1</td>\n",
       "    </tr>\n",
       "    <tr>\n",
       "      <th>9</th>\n",
       "      <td>21</td>\n",
       "      <td>10000</td>\n",
       "      <td>6.0</td>\n",
       "      <td>1600</td>\n",
       "      <td>14.74</td>\n",
       "      <td>0.16</td>\n",
       "      <td>1</td>\n",
       "      <td>3</td>\n",
       "      <td>0</td>\n",
       "      <td>1</td>\n",
       "      <td>0</td>\n",
       "      <td>0</td>\n",
       "      <td>0</td>\n",
       "      <td>0</td>\n",
       "      <td>0</td>\n",
       "      <td>0</td>\n",
       "    </tr>\n",
       "  </tbody>\n",
       "</table>\n",
       "</div>"
      ],
      "text/plain": [
       "   person_age  person_income  person_emp_length  loan_amnt  loan_int_rate   \n",
       "1          21           9600                5.0       1000          11.14  \\\n",
       "5          21           9900                2.0       2500           7.14   \n",
       "7          24          78956                5.0      35000          11.11   \n",
       "8          24          83000                8.0      35000           8.90   \n",
       "9          21          10000                6.0       1600          14.74   \n",
       "\n",
       "   loan_percent_income cb_person_default_on_file  cb_person_cred_hist_length   \n",
       "1                 0.10                         1                           2  \\\n",
       "5                 0.25                         1                           2   \n",
       "7                 0.44                         1                           4   \n",
       "8                 0.42                         1                           2   \n",
       "9                 0.16                         1                           3   \n",
       "\n",
       "   person_home_ownership_MORTGAGE  person_home_ownership_OWN   \n",
       "1                               0                          1  \\\n",
       "5                               0                          1   \n",
       "7                               0                          0   \n",
       "8                               0                          0   \n",
       "9                               0                          1   \n",
       "\n",
       "   person_home_ownership_RENT  loan_intent_DEBTCONSOLIDATION   \n",
       "1                           0                              0  \\\n",
       "5                           0                              0   \n",
       "7                           1                              0   \n",
       "8                           1                              0   \n",
       "9                           0                              0   \n",
       "\n",
       "   loan_intent_EDUCATION  loan_intent_HOMEIMPROVEMENT  loan_intent_MEDICAL   \n",
       "1                      1                            0                    0  \\\n",
       "5                      0                            0                    0   \n",
       "7                      0                            0                    1   \n",
       "8                      0                            0                    0   \n",
       "9                      0                            0                    0   \n",
       "\n",
       "   loan_intent_PERSONAL  \n",
       "1                     0  \n",
       "5                     0  \n",
       "7                     0  \n",
       "8                     1  \n",
       "9                     0  "
      ]
     },
     "execution_count": 23,
     "metadata": {},
     "output_type": "execute_result"
    }
   ],
   "source": [
    "# Define features set\n",
    "X = clean_cred_df.copy()\n",
    "X.drop(\"loan_status\", axis=1, inplace=True)\n",
    "X.head()"
   ]
  },
  {
   "cell_type": "code",
   "execution_count": 24,
   "id": "GecCSVxdFKNd",
   "metadata": {
    "colab": {
     "base_uri": "https://localhost:8080/"
    },
    "id": "GecCSVxdFKNd",
    "outputId": "82772168-190e-4d8b-a58c-09c865b65de0"
   },
   "outputs": [
    {
     "data": {
      "text/plain": [
       "array([[0],\n",
       "       [1],\n",
       "       [1],\n",
       "       [1],\n",
       "       [1]])"
      ]
     },
     "execution_count": 24,
     "metadata": {},
     "output_type": "execute_result"
    }
   ],
   "source": [
    "# Define target vector\n",
    "y = clean_cred_df[\"loan_status\"].values.reshape(-1, 1)\n",
    "y = y.astype('int')\n",
    "y[:5]"
   ]
  },
  {
   "cell_type": "code",
   "execution_count": 25,
   "id": "xUD-CDz6FKP5",
   "metadata": {
    "id": "xUD-CDz6FKP5"
   },
   "outputs": [],
   "source": [
    "# split data into training and testing\n",
    "X_train, X_test, y_train, y_test = train_test_split(X, y, random_state=7)"
   ]
  },
  {
   "cell_type": "code",
   "execution_count": 26,
   "id": "L2nxxx55FKSi",
   "metadata": {
    "id": "L2nxxx55FKSi"
   },
   "outputs": [],
   "source": [
    "# Scale data\n",
    "# Create the StandardScaler instance\n",
    "scaler = StandardScaler()\n",
    "\n",
    "# Fit the Standard Scaler with the training data\n",
    "X_scaler = scaler.fit(X_train)\n",
    "\n",
    "# Scale the training data\n",
    "X_train_scaled = X_scaler.transform(X_train)\n",
    "X_test_scaled = X_scaler.transform(X_test)"
   ]
  },
  {
   "cell_type": "code",
   "execution_count": 27,
   "id": "oFx97_e9FKUa",
   "metadata": {
    "id": "oFx97_e9FKUa"
   },
   "outputs": [],
   "source": [
    "# Create the decision tree classifier instance\n",
    "model = tree.DecisionTreeClassifier()"
   ]
  },
  {
   "cell_type": "code",
   "execution_count": 28,
   "id": "8i8TirW0FYVm",
   "metadata": {
    "id": "8i8TirW0FYVm"
   },
   "outputs": [],
   "source": [
    "# Fit the model from decision tree classifier\n",
    "model = model.fit(X_train_scaled, y_train)"
   ]
  },
  {
   "cell_type": "code",
   "execution_count": 29,
   "id": "paSXQsYRFYX4",
   "metadata": {
    "id": "paSXQsYRFYX4"
   },
   "outputs": [],
   "source": [
    "# Making predictions using the testing data from decision tree classifier\n",
    "predictions = model.predict(X_test_scaled)"
   ]
  },
  {
   "cell_type": "code",
   "execution_count": 30,
   "id": "xSO_-aeVFYaV",
   "metadata": {
    "id": "xSO_-aeVFYaV"
   },
   "outputs": [],
   "source": [
    "# Calculating the confusion matrix for decision tree classifier\n",
    "cm = confusion_matrix(y_test, predictions)\n",
    "cm_df = pd.DataFrame(\n",
    "    cm, index=[\"Actual 0\", \"Actual 1\"], columns=[\"Predicted 0\", \"Predicted 1\"]\n",
    ")\n",
    "\n",
    "# Calculating the accuracy score\n",
    "acc_score = accuracy_score(y_test, predictions)"
   ]
  },
  {
   "cell_type": "code",
   "execution_count": 31,
   "id": "mezYJvsmFYc8",
   "metadata": {
    "colab": {
     "base_uri": "https://localhost:8080/"
    },
    "id": "mezYJvsmFYc8",
    "outputId": "68d05bbe-0c49-4bb9-ccef-3a78ece50514"
   },
   "outputs": [
    {
     "name": "stdout",
     "output_type": "stream",
     "text": [
      "Confusion Matrix\n",
      "Accuracy Score : 0.8745241581259151\n",
      "Classification Report\n",
      "              precision    recall  f1-score   support\n",
      "\n",
      "           0       0.93      0.91      0.92      5464\n",
      "           1       0.68      0.72      0.70      1366\n",
      "\n",
      "    accuracy                           0.87      6830\n",
      "   macro avg       0.80      0.82      0.81      6830\n",
      "weighted avg       0.88      0.87      0.88      6830\n",
      "\n"
     ]
    }
   ],
   "source": [
    "# Displaying results of decision tree classifier\n",
    "print(\"Confusion Matrix\")\n",
    "print(f\"Accuracy Score : {acc_score}\")\n",
    "print(\"Classification Report\")\n",
    "print(classification_report(y_test, predictions))"
   ]
  },
  {
   "cell_type": "code",
   "execution_count": 32,
   "id": "phUx3_dhFYfQ",
   "metadata": {
    "colab": {
     "base_uri": "https://localhost:8080/"
    },
    "id": "phUx3_dhFYfQ",
    "outputId": "a0aa7530-2a79-448d-dd32-4a98d982f974"
   },
   "outputs": [
    {
     "name": "stderr",
     "output_type": "stream",
     "text": [
      "C:\\Users\\LAHUNT\\AppData\\Local\\Programs\\Python\\Python311\\Lib\\site-packages\\sklearn\\utils\\validation.py:1143: DataConversionWarning: A column-vector y was passed when a 1d array was expected. Please change the shape of y to (n_samples, ), for example using ravel().\n",
      "  y = column_or_1d(y, warn=True)\n"
     ]
    }
   ],
   "source": [
    "# Remaking model with SVC\n",
    "from sklearn.svm import SVC \n",
    "model_2 = SVC(kernel='linear')\n",
    "model_2 = model_2.fit(X_train_scaled, y_train)"
   ]
  },
  {
   "cell_type": "code",
   "execution_count": 33,
   "id": "KmWyXcUhFYhw",
   "metadata": {
    "id": "KmWyXcUhFYhw"
   },
   "outputs": [],
   "source": [
    "# Making predictions using the testing data from SVC model\n",
    "predictions_2 = model_2.predict(X_test_scaled)"
   ]
  },
  {
   "cell_type": "code",
   "execution_count": 34,
   "id": "HejP1mwsGNw9",
   "metadata": {
    "id": "HejP1mwsGNw9"
   },
   "outputs": [],
   "source": [
    "# Calculating the confusion matrix for SVC\n",
    "cm_2 = confusion_matrix(y_test, predictions_2)\n",
    "cm_2_df = pd.DataFrame(\n",
    "    cm_2, index=[\"Actual 0\", \"Actual 1\"], columns=[\"Predicted 0\", \"Predicted 1\"]\n",
    ")\n",
    "\n",
    "# Calculating the accuracy score\n",
    "acc_score_2 = accuracy_score(y_test, predictions_2)"
   ]
  },
  {
   "cell_type": "code",
   "execution_count": 35,
   "id": "pkswbNa6GNzd",
   "metadata": {
    "colab": {
     "base_uri": "https://localhost:8080/",
     "height": 326
    },
    "id": "pkswbNa6GNzd",
    "outputId": "d479aa69-b39c-4d47-e2c4-776d422d12dc"
   },
   "outputs": [
    {
     "name": "stdout",
     "output_type": "stream",
     "text": [
      "Confusion Matrix\n"
     ]
    },
    {
     "data": {
      "text/html": [
       "<div>\n",
       "<style scoped>\n",
       "    .dataframe tbody tr th:only-of-type {\n",
       "        vertical-align: middle;\n",
       "    }\n",
       "\n",
       "    .dataframe tbody tr th {\n",
       "        vertical-align: top;\n",
       "    }\n",
       "\n",
       "    .dataframe thead th {\n",
       "        text-align: right;\n",
       "    }\n",
       "</style>\n",
       "<table border=\"1\" class=\"dataframe\">\n",
       "  <thead>\n",
       "    <tr style=\"text-align: right;\">\n",
       "      <th></th>\n",
       "      <th>Predicted 0</th>\n",
       "      <th>Predicted 1</th>\n",
       "    </tr>\n",
       "  </thead>\n",
       "  <tbody>\n",
       "    <tr>\n",
       "      <th>Actual 0</th>\n",
       "      <td>5253</td>\n",
       "      <td>211</td>\n",
       "    </tr>\n",
       "    <tr>\n",
       "      <th>Actual 1</th>\n",
       "      <td>804</td>\n",
       "      <td>562</td>\n",
       "    </tr>\n",
       "  </tbody>\n",
       "</table>\n",
       "</div>"
      ],
      "text/plain": [
       "          Predicted 0  Predicted 1\n",
       "Actual 0         5253          211\n",
       "Actual 1          804          562"
      ]
     },
     "metadata": {},
     "output_type": "display_data"
    },
    {
     "name": "stdout",
     "output_type": "stream",
     "text": [
      "Accuracy Score : 0.8513909224011713\n",
      "Classification Report\n",
      "              precision    recall  f1-score   support\n",
      "\n",
      "           0       0.87      0.96      0.91      5464\n",
      "           1       0.73      0.41      0.53      1366\n",
      "\n",
      "    accuracy                           0.85      6830\n",
      "   macro avg       0.80      0.69      0.72      6830\n",
      "weighted avg       0.84      0.85      0.83      6830\n",
      "\n"
     ]
    }
   ],
   "source": [
    "# Displaying results of decision tree classifier\n",
    "print(\"Confusion Matrix\")\n",
    "display(cm_2_df)\n",
    "print(f\"Accuracy Score : {acc_score_2}\")\n",
    "print(\"Classification Report\")\n",
    "print(classification_report(y_test, predictions_2))"
   ]
  },
  {
   "cell_type": "code",
   "execution_count": 36,
   "id": "14phEMAcGN10",
   "metadata": {
    "colab": {
     "base_uri": "https://localhost:8080/"
    },
    "id": "14phEMAcGN10",
    "outputId": "288aa58c-7295-41eb-e3a9-b3fa7a7d31e4"
   },
   "outputs": [
    {
     "name": "stderr",
     "output_type": "stream",
     "text": [
      "C:\\Users\\LAHUNT\\AppData\\Local\\Programs\\Python\\Python311\\Lib\\site-packages\\sklearn\\utils\\validation.py:1143: DataConversionWarning: A column-vector y was passed when a 1d array was expected. Please change the shape of y to (n_samples, ), for example using ravel().\n",
      "  y = column_or_1d(y, warn=True)\n"
     ]
    }
   ],
   "source": [
    "# Remaking model with Logistic Regression\n",
    "from sklearn.linear_model import LogisticRegression\n",
    "model_3 = LogisticRegression(solver='liblinear', random_state=1)\n",
    "model_3 = model_3.fit(X_train_scaled, y_train)"
   ]
  },
  {
   "cell_type": "code",
   "execution_count": 37,
   "id": "QCSV2FlcGN4Q",
   "metadata": {
    "id": "QCSV2FlcGN4Q"
   },
   "outputs": [],
   "source": [
    "# Making predictions using the testing data from logistic regression\n",
    "predictions_3 = model_3.predict(X_test_scaled)"
   ]
  },
  {
   "cell_type": "code",
   "execution_count": 38,
   "id": "LZqU1dDUGN6S",
   "metadata": {
    "id": "LZqU1dDUGN6S"
   },
   "outputs": [],
   "source": [
    "# Calculating the confusion matrix for logistic regression\n",
    "cm_3 = confusion_matrix(y_test, predictions_3)\n",
    "cm_3_df = pd.DataFrame(\n",
    "    cm_3, index=[\"Actual 0\", \"Actual 1\"], columns=[\"Predicted 0\", \"Predicted 1\"]\n",
    ")\n",
    "\n",
    "# Calculating the accuracy score\n",
    "acc_score_3 = accuracy_score(y_test, predictions_3)"
   ]
  },
  {
   "cell_type": "code",
   "execution_count": 39,
   "id": "tFznfJRyGrWn",
   "metadata": {
    "colab": {
     "base_uri": "https://localhost:8080/",
     "height": 326
    },
    "id": "tFznfJRyGrWn",
    "outputId": "77397243-ae28-4954-9bb3-2610e78ff6f1"
   },
   "outputs": [
    {
     "name": "stdout",
     "output_type": "stream",
     "text": [
      "Confusion Matrix\n"
     ]
    },
    {
     "data": {
      "text/html": [
       "<div>\n",
       "<style scoped>\n",
       "    .dataframe tbody tr th:only-of-type {\n",
       "        vertical-align: middle;\n",
       "    }\n",
       "\n",
       "    .dataframe tbody tr th {\n",
       "        vertical-align: top;\n",
       "    }\n",
       "\n",
       "    .dataframe thead th {\n",
       "        text-align: right;\n",
       "    }\n",
       "</style>\n",
       "<table border=\"1\" class=\"dataframe\">\n",
       "  <thead>\n",
       "    <tr style=\"text-align: right;\">\n",
       "      <th></th>\n",
       "      <th>Predicted 0</th>\n",
       "      <th>Predicted 1</th>\n",
       "    </tr>\n",
       "  </thead>\n",
       "  <tbody>\n",
       "    <tr>\n",
       "      <th>Actual 0</th>\n",
       "      <td>5195</td>\n",
       "      <td>269</td>\n",
       "    </tr>\n",
       "    <tr>\n",
       "      <th>Actual 1</th>\n",
       "      <td>744</td>\n",
       "      <td>622</td>\n",
       "    </tr>\n",
       "  </tbody>\n",
       "</table>\n",
       "</div>"
      ],
      "text/plain": [
       "          Predicted 0  Predicted 1\n",
       "Actual 0         5195          269\n",
       "Actual 1          744          622"
      ]
     },
     "metadata": {},
     "output_type": "display_data"
    },
    {
     "name": "stdout",
     "output_type": "stream",
     "text": [
      "Accuracy Score : 0.8516837481698389\n",
      "Classification Report\n",
      "              precision    recall  f1-score   support\n",
      "\n",
      "           0       0.87      0.95      0.91      5464\n",
      "           1       0.70      0.46      0.55      1366\n",
      "\n",
      "    accuracy                           0.85      6830\n",
      "   macro avg       0.79      0.70      0.73      6830\n",
      "weighted avg       0.84      0.85      0.84      6830\n",
      "\n"
     ]
    }
   ],
   "source": [
    "# Displaying results of logistic regression\n",
    "print(\"Confusion Matrix\")\n",
    "display(cm_3_df)\n",
    "print(f\"Accuracy Score : {acc_score_3}\")\n",
    "print(\"Classification Report\")\n",
    "print(classification_report(y_test, predictions_3))"
   ]
  },
  {
   "cell_type": "code",
   "execution_count": 40,
   "id": "EJdsRzXWGrbe",
   "metadata": {
    "colab": {
     "base_uri": "https://localhost:8080/"
    },
    "id": "EJdsRzXWGrbe",
    "outputId": "19d366fc-d54f-48bd-b9f8-7468ecbc7ba3"
   },
   "outputs": [
    {
     "name": "stderr",
     "output_type": "stream",
     "text": [
      "C:\\Users\\LAHUNT\\AppData\\Local\\Programs\\Python\\Python311\\Lib\\site-packages\\sklearn\\neighbors\\_classification.py:215: DataConversionWarning: A column-vector y was passed when a 1d array was expected. Please change the shape of y to (n_samples,), for example using ravel().\n",
      "  return self._fit(X, y)\n"
     ]
    }
   ],
   "source": [
    "# Remaking model with KNeighborsClassifier\n",
    "from sklearn.neighbors import KNeighborsClassifier\n",
    "model_4 = KNeighborsClassifier(n_neighbors=9)\n",
    "model_4 = model_4.fit(X_train_scaled, y_train)"
   ]
  },
  {
   "cell_type": "code",
   "execution_count": 41,
   "id": "sIy6RobGGxwL",
   "metadata": {
    "id": "sIy6RobGGxwL"
   },
   "outputs": [],
   "source": [
    "# Making predictions using the testing data from KNeighborsClassifier\n",
    "predictions_4 = model_4.predict(X_test_scaled)"
   ]
  },
  {
   "cell_type": "code",
   "execution_count": 42,
   "id": "C2XY3Mw5Gxy6",
   "metadata": {
    "id": "C2XY3Mw5Gxy6"
   },
   "outputs": [],
   "source": [
    "# Calculating the confusion matrix for logistic regression\n",
    "cm_4 = confusion_matrix(y_test, predictions_4)\n",
    "cm_4_df = pd.DataFrame(\n",
    "    cm_4, index=[\"Actual 0\", \"Actual 1\"], columns=[\"Predicted 0\", \"Predicted 1\"]\n",
    ")\n",
    "\n",
    "# Calculating the accuracy score\n",
    "acc_score_4 = accuracy_score(y_test, predictions_4)"
   ]
  },
  {
   "cell_type": "code",
   "execution_count": 43,
   "id": "Zw7iJUUsGx1g",
   "metadata": {
    "colab": {
     "base_uri": "https://localhost:8080/",
     "height": 326
    },
    "id": "Zw7iJUUsGx1g",
    "outputId": "979b9e13-9174-4c00-ae69-8199bb467603"
   },
   "outputs": [
    {
     "name": "stdout",
     "output_type": "stream",
     "text": [
      "Confusion Matrix\n"
     ]
    },
    {
     "data": {
      "text/html": [
       "<div>\n",
       "<style scoped>\n",
       "    .dataframe tbody tr th:only-of-type {\n",
       "        vertical-align: middle;\n",
       "    }\n",
       "\n",
       "    .dataframe tbody tr th {\n",
       "        vertical-align: top;\n",
       "    }\n",
       "\n",
       "    .dataframe thead th {\n",
       "        text-align: right;\n",
       "    }\n",
       "</style>\n",
       "<table border=\"1\" class=\"dataframe\">\n",
       "  <thead>\n",
       "    <tr style=\"text-align: right;\">\n",
       "      <th></th>\n",
       "      <th>Predicted 0</th>\n",
       "      <th>Predicted 1</th>\n",
       "    </tr>\n",
       "  </thead>\n",
       "  <tbody>\n",
       "    <tr>\n",
       "      <th>Actual 0</th>\n",
       "      <td>5325</td>\n",
       "      <td>139</td>\n",
       "    </tr>\n",
       "    <tr>\n",
       "      <th>Actual 1</th>\n",
       "      <td>688</td>\n",
       "      <td>678</td>\n",
       "    </tr>\n",
       "  </tbody>\n",
       "</table>\n",
       "</div>"
      ],
      "text/plain": [
       "          Predicted 0  Predicted 1\n",
       "Actual 0         5325          139\n",
       "Actual 1          688          678"
      ]
     },
     "metadata": {},
     "output_type": "display_data"
    },
    {
     "name": "stdout",
     "output_type": "stream",
     "text": [
      "Accuracy Score : 0.8789165446559297\n",
      "Classification Report\n",
      "              precision    recall  f1-score   support\n",
      "\n",
      "           0       0.89      0.97      0.93      5464\n",
      "           1       0.83      0.50      0.62      1366\n",
      "\n",
      "    accuracy                           0.88      6830\n",
      "   macro avg       0.86      0.74      0.77      6830\n",
      "weighted avg       0.87      0.88      0.87      6830\n",
      "\n"
     ]
    }
   ],
   "source": [
    "# Displaying results of logistic regression\n",
    "print(\"Confusion Matrix\")\n",
    "display(cm_4_df)\n",
    "print(f\"Accuracy Score : {acc_score_4}\")\n",
    "print(\"Classification Report\")\n",
    "print(classification_report(y_test, predictions_4))"
   ]
  },
  {
   "cell_type": "code",
   "execution_count": 44,
   "id": "SwcO7v1yGx3-",
   "metadata": {
    "id": "SwcO7v1yGx3-"
   },
   "outputs": [
    {
     "name": "stderr",
     "output_type": "stream",
     "text": [
      "C:\\Users\\LAHUNT\\AppData\\Local\\Temp\\ipykernel_18488\\2664256123.py:5: DataConversionWarning: A column-vector y was passed when a 1d array was expected. Please change the shape of y to (n_samples,), for example using ravel().\n",
      "  rf_model = rf_model.fit(X_train_scaled, y_train)\n"
     ]
    }
   ],
   "source": [
    "# Create a random forest classifier\n",
    "rf_model = RandomForestClassifier(n_estimators=100, random_state=78, criterion='gini')\n",
    "\n",
    "# Fitting the model\n",
    "rf_model = rf_model.fit(X_train_scaled, y_train)\n",
    "\n",
    "# Making predictions using the testing data\n",
    "predictions_rf = rf_model.predict(X_test_scaled)"
   ]
  },
  {
   "cell_type": "code",
   "execution_count": 45,
   "id": "rIt0fUUEGx6f",
   "metadata": {
    "id": "rIt0fUUEGx6f"
   },
   "outputs": [],
   "source": [
    "# Calculating the confusion matrix\n",
    "cm_rf = confusion_matrix(y_test, predictions_rf)\n",
    "cm_rf_df = pd.DataFrame(\n",
    "    cm_rf, index=[\"Actual 0\", \"Actual 1\"], columns=[\"Predicted 0\", \"Predicted 1\"]\n",
    ")\n",
    "\n",
    "# Calculating the accuracy score\n",
    "acc_score_rf = accuracy_score(y_test, predictions_rf)"
   ]
  },
  {
   "cell_type": "code",
   "execution_count": 46,
   "id": "eXDpDUv7Gx8t",
   "metadata": {
    "id": "eXDpDUv7Gx8t"
   },
   "outputs": [
    {
     "name": "stdout",
     "output_type": "stream",
     "text": [
      "Confusion Matrix\n"
     ]
    },
    {
     "data": {
      "text/html": [
       "<div>\n",
       "<style scoped>\n",
       "    .dataframe tbody tr th:only-of-type {\n",
       "        vertical-align: middle;\n",
       "    }\n",
       "\n",
       "    .dataframe tbody tr th {\n",
       "        vertical-align: top;\n",
       "    }\n",
       "\n",
       "    .dataframe thead th {\n",
       "        text-align: right;\n",
       "    }\n",
       "</style>\n",
       "<table border=\"1\" class=\"dataframe\">\n",
       "  <thead>\n",
       "    <tr style=\"text-align: right;\">\n",
       "      <th></th>\n",
       "      <th>Predicted 0</th>\n",
       "      <th>Predicted 1</th>\n",
       "    </tr>\n",
       "  </thead>\n",
       "  <tbody>\n",
       "    <tr>\n",
       "      <th>Actual 0</th>\n",
       "      <td>5378</td>\n",
       "      <td>86</td>\n",
       "    </tr>\n",
       "    <tr>\n",
       "      <th>Actual 1</th>\n",
       "      <td>442</td>\n",
       "      <td>924</td>\n",
       "    </tr>\n",
       "  </tbody>\n",
       "</table>\n",
       "</div>"
      ],
      "text/plain": [
       "          Predicted 0  Predicted 1\n",
       "Actual 0         5378           86\n",
       "Actual 1          442          924"
      ]
     },
     "metadata": {},
     "output_type": "display_data"
    },
    {
     "name": "stdout",
     "output_type": "stream",
     "text": [
      "Accuracy Score : 0.9226939970717423\n",
      "Classification Report\n",
      "              precision    recall  f1-score   support\n",
      "\n",
      "           0       0.92      0.98      0.95      5464\n",
      "           1       0.91      0.68      0.78      1366\n",
      "\n",
      "    accuracy                           0.92      6830\n",
      "   macro avg       0.92      0.83      0.87      6830\n",
      "weighted avg       0.92      0.92      0.92      6830\n",
      "\n"
     ]
    }
   ],
   "source": [
    "# Displaying results\n",
    "print(\"Confusion Matrix\")\n",
    "display(cm_rf_df)\n",
    "print(f\"Accuracy Score : {acc_score_rf}\")\n",
    "print(\"Classification Report\")\n",
    "print(classification_report(y_test, predictions_rf))"
   ]
  },
  {
   "cell_type": "code",
   "execution_count": null,
   "id": "632a9072",
   "metadata": {},
   "outputs": [],
   "source": []
  }
 ],
 "metadata": {
  "colab": {
   "provenance": []
  },
  "kernelspec": {
   "display_name": "Python 3 (ipykernel)",
   "language": "python",
   "name": "python3"
  },
  "language_info": {
   "codemirror_mode": {
    "name": "ipython",
    "version": 3
   },
   "file_extension": ".py",
   "mimetype": "text/x-python",
   "name": "python",
   "nbconvert_exporter": "python",
   "pygments_lexer": "ipython3",
   "version": "3.11.3"
  }
 },
 "nbformat": 4,
 "nbformat_minor": 5
}
